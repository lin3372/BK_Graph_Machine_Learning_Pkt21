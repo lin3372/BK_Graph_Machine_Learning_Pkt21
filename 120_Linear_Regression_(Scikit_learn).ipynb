{
  "nbformat": 4,
  "nbformat_minor": 0,
  "metadata": {
    "colab": {
      "name": "120_Linear_Regression (Scikit-learn).ipynb",
      "provenance": [],
      "authorship_tag": "ABX9TyMaziNjW2eZ5e8i2JpsSe0b",
      "include_colab_link": true
    },
    "kernelspec": {
      "name": "python3",
      "display_name": "Python 3"
    },
    "language_info": {
      "name": "python"
    }
  },
  "cells": [
    {
      "cell_type": "markdown",
      "metadata": {
        "id": "view-in-github",
        "colab_type": "text"
      },
      "source": [
        "<a href=\"https://colab.research.google.com/github/lin3372/BK_Graph_Machine_Learning_Pkt21/blob/main/120_Linear_Regression_(Scikit_learn).ipynb\" target=\"_parent\"><img src=\"https://colab.research.google.com/assets/colab-badge.svg\" alt=\"Open In Colab\"/></a>"
      ]
    },
    {
      "cell_type": "markdown",
      "metadata": {
        "id": "MWeSEa9ernWk"
      },
      "source": [
        "[Day13-Scikit-learn介紹(5)_ Linear-Regression](https://ithelp.ithome.com.tw/articles/10206114)"
      ]
    },
    {
      "cell_type": "code",
      "metadata": {
        "id": "q2wcO8TyrV13"
      },
      "source": [
        "import matplotlib.pyplot as plt\n",
        "import seaborn as sns; sns.set()\n",
        "import numpy as np"
      ],
      "execution_count": 22,
      "outputs": []
    },
    {
      "cell_type": "markdown",
      "metadata": {
        "id": "6hAWzQwetrP7"
      },
      "source": [
        "## Linear Regression with scikit-learn\n",
        "\n",
        "線性回歸簡單來說，就是將複雜的資料數據，擬和至一條直線上，就能方便預測未來的資料\n",
        "先從簡單的線性回歸舉例，![image.png](data:image/png;base64,iVBORw0KGgoAAAANSUhEUgAAAEwAAAASCAIAAAB+ca/7AAAEQElEQVRYCd1WW0syWxjuJ41OGJ3U6CIqyLBkcoM7R7BgxgmLJCpCisJSi07eVEQgJFJBGB0uFMqigxlkOyI60AE/6qKLCZ3SGZ21iSWzhwrjq4td33v1vKfnXc/MWmsmB/yJFo/HWZYVlOUI6M8Am5ubjY2Nubm5/f39gqIfJpLjuFgsJqz+XRAIBBAEWVlZEbI/TGQwGNTr9cLq3wVWqzU3N1f8LH6YyI2NDRzH39UmBGtra6urqwUXAJAR6fV6jUbj+fm5kNvb24tGo4L7FUDTtM1mM5lMi4uLDw8PiURCYHO73RRF2e32VCo1Pz9PUZTL5eJ5Xih4BT4USdN0fn5+a2ur3W4nCMLj8WREejwet9s9Pj6u0WggKcuyxcXFw8PD4hldXV1/f2Q3NzfiFgDA4eFheXn5wsICy7LNzc0FBQVDQ0OwxuVyzc3NAQAMBoNKpRocHFxfX0dRNBQKvSIR3GAwaDAYBPctgAdSp9Pt7+8zDFNSUuLxeHLS6TRBEDzPEwRRU1MD27a3tyUSycHBgZjl9PR0/yN7fn4Wtzw+PpaWlnZ2dsLg3t6eRCLZ2NgAABwfH/f09MB4W1tbSUkJx3F+v1+v1yeTSTGJGAeDwezbtbu7G0XRX79+wS4Mw3Acz0kmk36/n6bpvLy8iYkJmLPZbIWFhWL2z2Gr1SqVSoWRIyMjMpkMUoVCofv7e4hVKpXJZHp3BEVRf4lMrVbL5XJR4AUyDCP0ajQa8YFUq9UvImF6enoaRdF4PA5drVZbX18vdH4alJWVVVZWCu04jmMYJrgQMAyDoujMzMyrOHTPzs7+Edns7KxWqxUFXmA6nYbFLMsqFIru7m7oPj09yWSyhoaGjEiSJKuqqmAukUgUFhYKJwcGAQBtbW3YR3Z1dSXUcxyHIEhTUxOMcBynUCh6e3uvr6+FdwsA8Pl8UqkUHmae53d3dwWGtyD7dr28vEQQxO/3w0av1yuRSAKBQEakRqNpaWmBOXggw+HwqxnRaPT8IxP/TPE8r1QqzWYz5FldXUUQZG1tzW63h0Kh/v5+eLG1t7crlUpYs7OzMzAw8Gqu2M1+u8ZisYKCAkEkjuNwP2ZE2my2iooKmqYjkUhlZWVRUZGY+tPY4XBgGJZOp5eWloxGI4qiR0dHFEUBAORyudPpPDk5IUlSoVDc3t4eHBxYLBbxB+bt3OwiAQAmk8lqtT49PXV0dGg0mru7u/++k+l0enh4mCCIvr4+DMN0Ot3bAZ+LuFwuiqKmpqYSiYTP5yNJEu6RcDhsNptHR0dTqdTW1hZJkk6nk6bp7FM+FJlKpRwOB0mSbreb4zjI9vImA4FAXV0dPL6RSARF0eXl5ezD/q/s2dnZ2NjY705/EUlRVF1dHc/zDMNgGPb2yvld0u9W/yLy4uLCaDRaLBaDwTA5Ofndlvj19WQunmQyGYvFUqnU1xm/IcO/xqlHt9vVDiMAAAAASUVORK5CYII=), ![image.png](data:image/png;base64,iVBORw0KGgoAAAANSUhEUgAAAAoAAAAKCAIAAAACUFjqAAAA4ElEQVQoFU2PPYqFMBSF344Ef7CwsLAWBAnYmk4UUlhESxHBysYNuAmxDy5BbNyBnZE0hpiZR8SZW91zPrj3nI/8N5zz8zzv+369j9qEEF3XQQgRQlVVFUWxbZuU8sF5ngMAhBBSyrquNU2b5/nB0zSZpkkIUZf6vncchzH24DAMPc97/0EIoyhS8sMYs207SZIXu67bNM2DKaWGYZRlqfSyLLquE0Latj2O4xsNAIAxllJSSuM4tixr3/csy67r+uJ1XYMgwBgjhMZx9H0/TdNhGP6Kcc4ppaqYEELF/sU/4n3jQahx3UYAAAAASUVORK5CYII=) 稱為斜率, ![image.png](data:image/png;base64,iVBORw0KGgoAAAANSUhEUgAAAAgAAAAOCAIAAACdNMrBAAAA8ElEQVQoFV2PP65FUBDG7UiCUBCxADkr8KdSCQUlrVKi1Nw1SIQoWAESBdsQEQonJzHvedybvDvdzG++75uh4F37vhNC3h1QANC2rW3bLMu+Xq9/AACKomAYZpqmbxAEgSzL31YAgBAyDOOzDvCXMc8zz/OO4/i+b1lWmqYPKMuSYZgoijDG67qKoljX9XVVGIaSJGGMbytFUZIkuQBCSNf1e7osC8/zcRxTx3EIgvD5oKoqmqazLKP2fec4rmmaW+G6LkLoCVdVNc9zAOi6Tpblvu8fMAyDpmme55mmOY7jLb3CAYAQsm3beZ53+6v4AdcjAMwgBBmjAAAAAElFTkSuQmCC) 稱為截距"
      ]
    },
    {
      "cell_type": "code",
      "metadata": {
        "colab": {
          "base_uri": "https://localhost:8080/",
          "height": 268
        },
        "id": "F87TgqSvr1Fh",
        "outputId": "d0abab99-1cbb-4331-9cf1-0f713defccce"
      },
      "source": [
        "m = 3\n",
        "x0 = -5\n",
        "xmax = 10\n",
        "nPts=50\n",
        "\n",
        "rng = np.random.RandomState(1)\n",
        "x = xmax * rng.rand(nPts)\n",
        "y = m * x + x0 + rng.randn(nPts)\n",
        "plt.scatter(x, y);"
      ],
      "execution_count": 23,
      "outputs": [
        {
          "output_type": "display_data",
          "data": {
            "image/png": "[encoded data removed]",
            "text/plain": [
              "<Figure size 432x288 with 1 Axes>"
            ]
          },
          "metadata": {}
        }
      ]
    },
    {
      "cell_type": "code",
      "metadata": {
        "colab": {
          "base_uri": "https://localhost:8080/",
          "height": 268
        },
        "id": "np9p85Zvs5yB",
        "outputId": "c5c602de-c0ed-49f8-81f9-47a8ded37b8c"
      },
      "source": [
        "from sklearn.linear_model import LinearRegression\n",
        "model = LinearRegression(fit_intercept=True)\n",
        "\n",
        "model.fit(x[:, np.newaxis], y)\n",
        "\n",
        "xfit = np.linspace(0, 10, 1000)\n",
        "yfit = model.predict(xfit[:, np.newaxis])\n",
        "\n",
        "plt.scatter(x, y)\n",
        "plt.plot(xfit, yfit);"
      ],
      "execution_count": 24,
      "outputs": [
        {
          "output_type": "display_data",
          "data": {
            "image/png": "[encoded data removed]",
            "text/plain": [
              "<Figure size 432x288 with 1 Axes>"
            ]
          },
          "metadata": {}
        }
      ]
    },
    {
      "cell_type": "code",
      "metadata": {
        "colab": {
          "base_uri": "https://localhost:8080/"
        },
        "id": "F9HCvcuetGyL",
        "outputId": "00244d8f-54d3-430a-c3d2-a60843eeb291"
      },
      "source": [
        "print(f\"Model slope: {model.coef_[0]:.3}\")\n",
        "print(f\"Model intercept: {model.intercept_:.3}\")"
      ],
      "execution_count": 25,
      "outputs": [
        {
          "output_type": "stream",
          "name": "stdout",
          "text": [
            "Model slope: 3.03\n",
            "Model intercept: -5.0\n"
          ]
        }
      ]
    },
    {
      "cell_type": "markdown",
      "metadata": {
        "id": "D5E-q2qO3Zoq"
      },
      "source": [
        "## Multidimensional linear models\n",
        "多維回歸的線性糢型，![image.png](data:image/png;base64,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) ，可以在y上建立多維的陣列。"
      ]
    },
    {
      "cell_type": "code",
      "metadata": {
        "colab": {
          "base_uri": "https://localhost:8080/"
        },
        "id": "j6Vzl7VX3wB0",
        "outputId": "9e5ef984-2926-4e59-94b5-52e085b2a2d6"
      },
      "source": [
        "rng = np.random.RandomState(1)\n",
        "X = 10 * rng.rand(100, 3)\n",
        "y = 0.5 + np.dot(X, [1.5, -1., 2.])\n",
        "\n",
        "model.fit(X, y)\n",
        "print(model.intercept_)\n",
        "print(model.coef_)"
      ],
      "execution_count": 26,
      "outputs": [
        {
          "output_type": "stream",
          "name": "stdout",
          "text": [
            "0.500000000000016\n",
            "[ 1.5 -1.   2. ]\n"
          ]
        }
      ]
    },
    {
      "cell_type": "markdown",
      "metadata": {
        "id": "wX_gh7Pz54kS"
      },
      "source": [
        "## Polynomial basis functions\n",
        "利用SKlearn中匯入 PolynomialFeatures，來做多項式函數處理"
      ]
    },
    {
      "cell_type": "code",
      "metadata": {
        "colab": {
          "base_uri": "https://localhost:8080/"
        },
        "id": "n2wN3lwR5_IA",
        "outputId": "f479962a-d65b-4959-b5b6-595c31ca4cb6"
      },
      "source": [
        "from sklearn.preprocessing import PolynomialFeatures\n",
        "x = np.array([2, 3, 4])\n",
        "poly = PolynomialFeatures(3, include_bias=False)\n",
        "poly.fit_transform(x[:, None])"
      ],
      "execution_count": 27,
      "outputs": [
        {
          "output_type": "execute_result",
          "data": {
            "text/plain": [
              "array([[ 2.,  4.,  8.],\n",
              "       [ 3.,  9., 27.],\n",
              "       [ 4., 16., 64.]])"
            ]
          },
          "metadata": {},
          "execution_count": 27
        }
      ]
    },
    {
      "cell_type": "markdown",
      "metadata": {
        "id": "4KLvq5pZ6PHA"
      },
      "source": [
        "利用make_pipeline，一維陣列轉換為三維陣列，加入線性回歸中"
      ]
    },
    {
      "cell_type": "code",
      "metadata": {
        "id": "lRzEBRvC6T1o"
      },
      "source": [
        "from sklearn.pipeline import make_pipeline\n",
        "poly_model = make_pipeline(PolynomialFeatures(7), LinearRegression())"
      ],
      "execution_count": 28,
      "outputs": []
    },
    {
      "cell_type": "markdown",
      "metadata": {
        "id": "HTZB6DwZ6Y88"
      },
      "source": [
        "轉換完成後，可以看到(x,y)的關係為正弦 ![image.png](data:image/png;base64,iVBORw0KGgoAAAANSUhEUgAAABgAAAAOCAIAAAC6mkspAAAB/0lEQVQ4Ea2Rz8spURzG/UmajOWUJCa9sbAiIxZmwUxD41dJMlnYUcqkbKUkmljZTCkl2VgJO7OjkAUzY+Z7F+de731X0617ds9znvM53x82sDqGYaiqapUCm2UinU4Hg0HLmDVoPB4vFov/ALJEoIB1Rf8MajQamUyG4zie59F0u90uTdMMwyBWq9WiKIqm6ev1ms/nWZaNRqOdTudHRaIoJpNJZEUikeFw2O12p9PpfD632+2Kotzvd47jVquV3W5PJBLn8xkAZFnGcfx+vwP82Vo8Hg+Hw8jKZrOn04llWQDged7n85mmKcuyKIr9fh/DsPV6jb6cTCYOh+MHqNlsYhjmdDq/vr42mw0AmKapaZrb7RYEAT0DAI7jAoHARxYKBZIkkfwe9mw2y2azBEGQJGkYBgBIkoTjuKIon5c+n69UKiH5fr89Hk+tVvsNUlU1EAi0222kR6MRQRBo2BRFxWIxAEBFKYqC47gkSSi5XC4xDNvtdr1eb7/f2263m8vlOhwO6LpWq316IQhCFMXj8VitVgFgMBg4nc7L5YKS9Xrd6/UCAMuyuq7bTNOsVCq5XK5YLKZSKUEQUF8AwDBMPB7P5XJonOVyORQKIQoAbLdbv9/P8/xyufze2uv1ejweuq5/cgBgGMbj8TBNE5m6rmua9nfg9Xo9n0/k/AKbOUB+VtGbLwAAAABJRU5ErkJggg==) 圖形"
      ]
    },
    {
      "cell_type": "code",
      "metadata": {
        "colab": {
          "base_uri": "https://localhost:8080/",
          "height": 268
        },
        "id": "6RItxZyo6kbK",
        "outputId": "9ffc5da5-de68-42ae-dd0c-125cd51fea4a"
      },
      "source": [
        "rng = np.random.RandomState(1)\n",
        "x = 10 * rng.rand(50)\n",
        "y = np.sin(x) + 0.1 * rng.randn(50)\n",
        "\n",
        "poly_model.fit(x[:, np.newaxis], y)\n",
        "yfit = poly_model.predict(xfit[:, np.newaxis])\n",
        "\n",
        "plt.scatter(x, y)\n",
        "plt.plot(xfit, yfit);"
      ],
      "execution_count": 33,
      "outputs": [
        {
          "output_type": "display_data",
          "data": {
            "image/png": "[encoded data removed]",
            "text/plain": [
              "<Figure size 432x288 with 1 Axes>"
            ]
          },
          "metadata": {}
        }
      ]
    }
  ]
}