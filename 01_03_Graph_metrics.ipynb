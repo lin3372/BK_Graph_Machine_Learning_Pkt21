{
  "nbformat": 4,
  "nbformat_minor": 0,
  "metadata": {
    "colab": {
      "name": "01.03_Graph_metrics.ipynb",
      "provenance": [],
      "collapsed_sections": [],
      "include_colab_link": true
    },
    "kernelspec": {
      "display_name": "Python 3",
      "language": "python",
      "name": "python3"
    },
    "language_info": {
      "codemirror_mode": {
        "name": "ipython",
        "version": 3
      },
      "file_extension": ".py",
      "mimetype": "text/x-python",
      "name": "python",
      "nbconvert_exporter": "python",
      "pygments_lexer": "ipython3",
      "version": "3.5.0"
    }
  },
  "cells": [
    {
      "cell_type": "markdown",
      "metadata": {
        "id": "view-in-github",
        "colab_type": "text"
      },
      "source": [
        "<a href=\"https://colab.research.google.com/github/lin3372/BK_Graph_Machine_Learning_Pkt21/blob/main/01_03_Graph_metrics.ipynb\" target=\"_parent\"><img src=\"https://colab.research.google.com/assets/colab-badge.svg\" alt=\"Open In Colab\"/></a>"
      ]
    },
    {
      "cell_type": "markdown",
      "metadata": {
        "id": "DuAaM7qZ437L"
      },
      "source": [
        "## Pre-requisite \n",
        "1. Install and import lib\n",
        "2. define colors"
      ]
    },
    {
      "cell_type": "code",
      "metadata": {
        "colab": {
          "base_uri": "https://localhost:8080/"
        },
        "id": "LXAC7chI1lR7",
        "outputId": "c571b4b6-d763-4d71-8899-8ee632adfccf"
      },
      "source": [
        "import numpy as np\n",
        "import pandas as pd\n",
        "import networkx as nx\n",
        "import scipy as scipy\n",
        "import matplotlib as matlib\n",
        "import matplotlib.pyplot as plt\n",
        "\n",
        "np_ver, pd_ver, nx_ver, matlib_ver, scipy_ver = \\\n",
        "  np.__version__, pd.__version__, nx.__version__, matlib.__version__, scipy.__version__\n",
        "\n",
        "print(f\"np_ver={np_ver}\")\n",
        "print(f\"pd_ver={pd_ver}\")\n",
        "print(f\"nx_ver={nx_ver}\")\n",
        "print(f\"matlib_ver={matlib_ver}\")\n",
        "print(f\"scipy_ver={scipy_ver}\")"
      ],
      "execution_count": 1,
      "outputs": [
        {
          "output_type": "stream",
          "name": "stdout",
          "text": [
            "np_ver=1.19.5\n",
            "pd_ver=1.1.5\n",
            "nx_ver=2.6.3\n",
            "matlib_ver=3.2.2\n",
            "scipy_ver=1.4.1\n"
          ]
        }
      ]
    },
    {
      "cell_type": "code",
      "metadata": {
        "id": "8HQKhWzl5Uca"
      },
      "source": [
        "default_edge_color = 'gray'\n",
        "default_node_color = '#407cc9'\n",
        "enhanced_node_color = '#f5b042'\n",
        "enhanced_edge_color = '#cc2f04'"
      ],
      "execution_count": 2,
      "outputs": []
    },
    {
      "cell_type": "code",
      "metadata": {
        "id": "K3xAUEMPMxUq"
      },
      "source": [
        "## !pip install networkx==2.5 \n",
        "## !pip install matplotlib==3.2.2 \n",
        "## !pip install pandas==1.1.3 \n",
        "## !pip install scipy==1.6.2 "
      ],
      "execution_count": 3,
      "outputs": []
    },
    {
      "cell_type": "code",
      "metadata": {
        "id": "uKraKcP_lyqO"
      },
      "source": [
        "import networkx as nx\n",
        "import pandas as pd\n",
        "\n",
        "import matplotlib.pyplot as plt\n",
        "%matplotlib inline\n"
      ],
      "execution_count": 4,
      "outputs": []
    },
    {
      "cell_type": "markdown",
      "metadata": {
        "id": "ci5ithlNjeCM"
      },
      "source": [
        "## Chapter 1.2: Graph properties\n",
        "\n",
        "\n",
        "1. **• Integration metrics:** These measure how nodes tend to be interconnected with each other.\n",
        "2. **• Segregation metrics:** These quantify the presence of groups of interconnected nodes, known as communities or modules, within a network.\n",
        "3.  **• Centrality metrics:** These assess the importance of individual nodes inside a network.\n",
        "4. **• Resilience metrics:** These can be thought of as a measure of how much a network is able to maintain and adapt its operational performance when facing failures or other adverse conditions.\n"
      ]
    },
    {
      "cell_type": "markdown",
      "metadata": {
        "id": "qj62hsTChR45"
      },
      "source": [
        "## Graph Drawing Functions"
      ]
    },
    {
      "cell_type": "markdown",
      "metadata": {
        "id": "O1Vo8iKP25GW"
      },
      "source": [
        "### draw a simple graph"
      ]
    },
    {
      "cell_type": "code",
      "metadata": {
        "id": "rNOJ_ofKpb94"
      },
      "source": [
        "# draw a simple graph\n",
        "def draw_graph(G, node_names={}, filename=None, node_size=50):\n",
        "    pos_nodes = nx.spring_layout(G)\n",
        "    nx.draw(G, pos_nodes, with_labels=False, node_size=node_size, edge_color='gray')\n",
        "    \n",
        "    pos_attrs = {}\n",
        "    for node, coords in pos_nodes.items():\n",
        "        pos_attrs[node] = (coords[0], coords[1] + 0.08)\n",
        "        \n",
        "    nx.draw_networkx_labels(G, pos_attrs, labels=node_names, font_family='serif')\n",
        "    \n",
        "    plt.axis('off')\n",
        "    axis = plt.gca()\n",
        "    axis.set_xlim([1.2*x for x in axis.get_xlim()])\n",
        "    axis.set_ylim([1.2*y for y in axis.get_ylim()])\n",
        "    \n",
        "    if filename:\n",
        "        plt.savefig(filename, format=\"png\")\n"
      ],
      "execution_count": 5,
      "outputs": []
    },
    {
      "cell_type": "markdown",
      "metadata": {
        "id": "5CnwgB9C2-r6"
      },
      "source": [
        "### draw enhanced path on the graph"
      ]
    },
    {
      "cell_type": "code",
      "metadata": {
        "id": "jsU8sJti3DKJ"
      },
      "source": [
        "# draw enhanced path on the graph\n",
        "def draw_enhanced_path(G, path_to_enhance, node_names={}, filename=None):\n",
        "    path_edges = list(zip(path,path[1:]))\n",
        "    pos_nodes = nx.spring_layout(G)\n",
        "\n",
        "    plt.figure(figsize=(4,4),dpi=100)\n",
        "    pos_nodes = nx.spring_layout(G)\n",
        "    nx.draw(G, pos_nodes, with_labels=False, node_size=50, edge_color='gray')\n",
        "    \n",
        "    pos_attrs = {}\n",
        "    for node, coords in pos_nodes.items():\n",
        "        pos_attrs[node] = (coords[0], coords[1] + 0.08)\n",
        "        \n",
        "    nx.draw_networkx_labels(G, pos_attrs, labels=node_names, font_family='serif')\n",
        "    nx.draw_networkx_edges(G,pos_nodes,edgelist=path_edges, edge_color='#cc2f04', style='dashed', width=2.0)\n",
        "    \n",
        "    plt.axis('off')\n",
        "    axis = plt.gca()\n",
        "    axis.set_xlim([1.2*x for x in axis.get_xlim()])\n",
        "    axis.set_ylim([1.2*y for y in axis.get_ylim()])\n",
        "    \n",
        "    if filename:\n",
        "        plt.savefig(filename, format=\"png\")"
      ],
      "execution_count": 6,
      "outputs": []
    },
    {
      "cell_type": "markdown",
      "metadata": {
        "id": "jHQp_JOPh4Cm"
      },
      "source": [
        "## Integration metrics\n",
        "\n",
        "1.   Distance, path, and shortest path\n",
        "2.   Characteristic path length\n",
        "3.   Efficiency - Global Efficiency and Local Efficiency\n",
        "\n"
      ]
    },
    {
      "cell_type": "markdown",
      "metadata": {
        "id": "iXiFWQ1juLmW"
      },
      "source": [
        "### Shortest path"
      ]
    },
    {
      "cell_type": "code",
      "metadata": {
        "id": "pnrTW0IDl9ch"
      },
      "source": [
        "G = nx.Graph()\n",
        "nodes = {1:'Dublin',2:'Paris',3:'Milan',4:'Rome',5:'Naples',6:'Moscow',7:'Tokyo'}\n",
        "G.add_nodes_from(nodes.keys())\n",
        "G.add_edges_from([(1,2),(1,3),(2,3),(3,4),(4,5),(5,6),(6,7),(7,5)])"
      ],
      "execution_count": 7,
      "outputs": []
    },
    {
      "cell_type": "code",
      "metadata": {
        "colab": {
          "base_uri": "https://localhost:8080/",
          "height": 35
        },
        "id": "rWFsp3XAaW-5",
        "outputId": "07d84272-a421-4084-dae9-097b8036d24e"
      },
      "source": [
        "# test code\n",
        "# list(nodes.values())[0]"
      ],
      "execution_count": 8,
      "outputs": [
        {
          "output_type": "execute_result",
          "data": {
            "application/vnd.google.colaboratory.intrinsic+json": {
              "type": "string"
            },
            "text/plain": [
              "'Dublin'"
            ]
          },
          "metadata": {},
          "execution_count": 8
        }
      ]
    },
    {
      "cell_type": "code",
      "metadata": {
        "colab": {
          "base_uri": "https://localhost:8080/"
        },
        "id": "dGxxPrvZp_Ge",
        "outputId": "9afcf610-4b08-4564-a6c3-aa404bd07990"
      },
      "source": [
        "path = nx.shortest_path(G,source=1,target=7)\n",
        "print(path)"
      ],
      "execution_count": 9,
      "outputs": [
        {
          "output_type": "stream",
          "name": "stdout",
          "text": [
            "[1, 3, 4, 5, 7]\n"
          ]
        }
      ]
    },
    {
      "cell_type": "code",
      "metadata": {
        "colab": {
          "base_uri": "https://localhost:8080/",
          "height": 436
        },
        "id": "dAdKBv_HjvmM",
        "outputId": "de6148cc-732b-4554-f104-7245c798713a"
      },
      "source": [
        "draw_enhanced_path(G, path, node_names=nodes,filename='shortest_path.png')"
      ],
      "execution_count": 10,
      "outputs": [
        {
          "output_type": "display_data",
          "data": {
            "image/png": "[encoded data removed]",
            "text/plain": [
              "<Figure size 400x400 with 1 Axes>"
            ]
          },
          "metadata": {}
        }
      ]
    },
    {
      "cell_type": "markdown",
      "metadata": {
        "id": "dBg6m9ZATaJZ"
      },
      "source": [
        "### Characteristic path length\n",
        "The ***characteristic path*** length is defined as the average of all the shortest path lengths between all possible pair of nodes.\n",
        "\n",
        "This is one of the most commonly used measures of how efficiently information is spread across a network. Networks having shorter characteristic path lengths promote the quick transfer of information and reduce costs."
      ]
    },
    {
      "cell_type": "markdown",
      "metadata": {
        "id": "mSF_qrsDxwOJ"
      },
      "source": [
        "![Capture.JPG](data:image/jpeg;base64,/9j/4AAQSkZJRgABAQEAkACQAAD/4RD6RXhpZgAATU0AKgAAAAgABAE7AAIAAAAQAAAISodpAAQAAAABAAAIWpydAAEAAAAgAAAQ0uocAAcAAAgMAAAAPgAAAAAc6gAAAAgAAAAAAAAAAAAAAAAAAAAAAAAAAAAAAAAAAAAAAAAAAAAAAAAAAAAAAAAAAAAAAAAAAAAAAAAAAAAAAAAAAAAAAAAAAAAAAAAAAAAAAAAAAAAAAAAAAAAAAAAAAAAAAAAAAAAAAAAAAAAAAAAAAAAAAAAAAAAAAAAAAAAAAAAAAAAAAAAAAAAAAAAAAAAAAAAAAAAAAAAAAAAAAAAAAAAAAAAAAAAAAAAAAAAAAAAAAAAAAAAAAAAAAAAAAAAAAAAAAAAAAAAAAAAAAAAAAAAAAAAAAAAAAAAAAAAAAAAAAAAAAAAAAAAAAAAAAAAAAAAAAAAAAAAAAAAAAAAAAAAAAAAAAAAAAAAAAAAAAAAAAAAAAAAAAAAAAAAAAAAAAAAAAAAAAAAAAAAAAAAAAAAAAAAAAAAAAAAAAAAAAAAAAAAAAAAAAAAAAAAAAAAAAAAAAAAAAAAAAAAAAAAAAAAAAAAAAAAAAAAAAAAAAAAAAAAAAAAAAAAAAAAAAAAAAAAAAAAAAAAAAAAAAAAAAAAAAAAAAAAAAAAAAAAAAAAAAAAAAAAAAAAAAAAAAAAAAAAAAAAAAAAAAAAAAAAAAAAAAAAAAAAAAAAAAAAAAAAAAAAAAAAAAAAAAAAAAAAAAAAAAAAAAAAAAAAAAAAAAAAAAAAAAAAAAAAAAAAAAAAAAAAAAAAAAAAAAAAAAAAAAAAAAAAAAAAAAAAAAAAAAAAAAAAAAAAAAAAAAAAAAAAAAAAAAAAAAAAAAAAAAAAAAAAAAAAAAAAAAAAAAAAAAAAAAAAAAAAAAAAAAAAAAAAAAAAAAAAAAAAAAAAAAAAAAAAAAAAAAAAAAAAAAAAAAAAAAAAAAAAAAAAAAAAAAAAAAAAAAAAAAAAAAAAAAAAAAAAAAAAAAAAAAAAAAAAAAAAAAAAAAAAAAAAAAAAAAAAAAAAAAAAAAAAAAAAAAAAAAAAAAAAAAAAAAAAAAAAAAAAAAAAAAAAAAAAAAAAAAAAAAAAAAAAAAAAAAAAAAAAAAAAAAAAAAAAAAAAAAAAAAAAAAAAAAAAAAAAAAAAAAAAAAAAAAAAAAAAAAAAAAAAAAAAAAAAAAAAAAAAAAAAAAAAAAAAAAAAAAAAAAAAAAAAAAAAAAAAAAAAAAAAAAAAAAAAAAAAAAAAAAAAAAAAAAAAAAAAAAAAAAAAAAAAAAAAAAAAAAAAAAAAAAAAAAAAAAAAAAAAAAAAAAAAAAAAAAAAAAAAAAAAAAAAAAAAAAAAAAAAAAAAAAAAAAAAAAAAAAAAAAAAAAAAAAAAAAAAAAAAAAAAAAAAAAAAAAAAAAAAAAAAAAAAAAAAAAAAAAAAAAAAAAAAAAAAAAAAAAAAAAAAAAAAAAAAAAAAAAAAAAAAAAAAAAAAAAAAAAAAAAAAAAAAAAAAAAAAAAAAAAAAAAAAAAAAAAAAAAAAAAAAAAAAAAAAAAAAAAAAAAAAAAAAAAAAAAAAAAAAAAAAAAAAAAAAAAAAAAAAAAAAAAAAAAAAAAAAAAAAAAAAAAAAAAAAAAAAAAAAAAAAAAAAAAAAAAAAAAAAAAAAAAAAAAAAAAAAAAAAAAAAAAAAAAAAAAAAAAAAAAAAAAAAAAAAAAAAAAAAAAAAAAAAAAAAAAAAAAAAAAAAAAAAAAAAAAAAAAAAAAAAAAAAAAAAAAAAAAAAAAAAAAAAAAAAAAAAAAAAAAAAAAAAAAAAAAAAAAAAAAAAAAAAAAAAAAAAAAAAAAAAAAAAAAAAAAAAAAAAAAAAAAAAAAAAAAAAAAAAAAAAAAAAAAAAAAAAAAAAAAAAAAAAAAAAAAAAAAAAAAAAAAAAAAAAAAAAAAAAAAAAAAAAAAAAAAAAAAAAAAAAAAAAAAAAAAAAAAAAAAAAAAAAAAAAAAAAAAAAAAAAAAAAAAAAAAAAAAAAAAAAAAAAAAAAAAAAAAAAAAAAAAAAAAAAAAAAAAAAAAAAAAAAAAAAAAAAAAAAAAAAAAAAAAAAAAAAAAAAAAAAAAAAAAAAAAAAAAAAAAAAAAAAAAAAAAAAAAAAAAAAAAAAAAAAAAAAAAAAAAAAAAAAAAAAAAAAAAAAAAAAAAAAAAAAAAAAAAAAAAAAAAAAAAAAAAAAAAAAAAAAAAAAAAAAAAAAAAAAAAAAAAAAAAAAAAAAAAAAAAAAAAAAAAAAAAAAAAAAAAAAAAAAAAAAAAAAAAAAAAAAAAAAAAAAAAAAAAAAAAAAAAAAAAAAAAAAAAAAAAAAAAAAAAAAAAAAAAAAAAAAAAAAAAAAAAAAAAAAAAAAAAAAAAAAAAAAAAAAAAAAAAAAAAAAAAAAAAAAAAAAAAAAAAAAAAAAAAAAAAAAAAAAAAAAAAAAAAAAAAAAAAAAAAAAAAAAAAAAAAAAAAAAAAAAAAAAAAAAAAAAAAAAAAAAAAAAAAAAAAAAAAAAAAAAAAAAAAAAAAAAAAAAAAAAAAAAAAAAAAAAAAAAAAAAAAAAAAAAAAAAAAAAAAAAAAAAAAAAAAAAAAAAAAAAAAAAAAAAAAAAAAAAAAAAAAAAAAAAAAAAAAAAAAAAAAAAAAAAAAAAAAAAAAAAAAAAAAAAAAAAAAAAAAAAAAAAAAAAAAAAAAAAAAAAAAAAAAAAAAAAAAAAAAAAAAAAAAAAAAAAAAAAAAAAAAAAAAAAAAAAAAAAAAAAAAAAAAAAAAAAAAAAAAAAAAAAAAAAAAAAAAAAAAAAAAAAAAAAAAAAAAAAAAAAAAAAAAEl2YW4gTGluIChUZXN0KQAABZADAAIAAAAUAAAQqJAEAAIAAAAUAAAQvJKRAAIAAAADMjEAAJKSAAIAAAADMjEAAOocAAcAAAgMAAAInAAAAAAc6gAAAAgAAAAAAAAAAAAAAAAAAAAAAAAAAAAAAAAAAAAAAAAAAAAAAAAAAAAAAAAAAAAAAAAAAAAAAAAAAAAAAAAAAAAAAAAAAAAAAAAAAAAAAAAAAAAAAAAAAAAAAAAAAAAAAAAAAAAAAAAAAAAAAAAAAAAAAAAAAAAAAAAAAAAAAAAAAAAAAAAAAAAAAAAAAAAAAAAAAAAAAAAAAAAAAAAAAAAAAAAAAAAAAAAAAAAAAAAAAAAAAAAAAAAAAAAAAAAAAAAAAAAAAAAAAAAAAAAAAAAAAAAAAAAAAAAAAAAAAAAAAAAAAAAAAAAAAAAAAAAAAAAAAAAAAAAAAAAAAAAAAAAAAAAAAAAAAAAAAAAAAAAAAAAAAAAAAAAAAAAAAAAAAAAAAAAAAAAAAAAAAAAAAAAAAAAAAAAAAAAAAAAAAAAAAAAAAAAAAAAAAAAAAAAAAAAAAAAAAAAAAAAAAAAAAAAAAAAAAAAAAAAAAAAAAAAAAAAAAAAAAAAAAAAAAAAAAAAAAAAAAAAAAAAAAAAAAAAAAAAAAAAAAAAAAAAAAAAAAAAAAAAAAAAAAAAAAAAAAAAAAAAAAAAAAAAAAAAAAAAAAAAAAAAAAAAAAAAAAAAAAAAAAAAAAAAAAAAAAAAAAAAAAAAAAAAAAAAAAAAAAAAAAAAAAAAAAAAAAAAAAAAAAAAAAAAAAAAAAAAAAAAAAAAAAAAAAAAAAAAAAAAAAAAAAAAAAAAAAAAAAAAAAAAAAAAAAAAAAAAAAAAAAAAAAAAAAAAAAAAAAAAAAAAAAAAAAAAAAAAAAAAAAAAAAAAAAAAAAAAAAAAAAAAAAAAAAAAAAAAAAAAAAAAAAAAAAAAAAAAAAAAAAAAAAAAAAAAAAAAAAAAAAAAAAAAAAAAAAAAAAAAAAAAAAAAAAAAAAAAAAAAAAAAAAAAAAAAAAAAAAAAAAAAAAAAAAAAAAAAAAAAAAAAAAAAAAAAAAAAAAAAAAAAAAAAAAAAAAAAAAAAAAAAAAAAAAAAAAAAAAAAAAAAAAAAAAAAAAAAAAAAAAAAAAAAAAAAAAAAAAAAAAAAAAAAAAAAAAAAAAAAAAAAAAAAAAAAAAAAAAAAAAAAAAAAAAAAAAAAAAAAAAAAAAAAAAAAAAAAAAAAAAAAAAAAAAAAAAAAAAAAAAAAAAAAAAAAAAAAAAAAAAAAAAAAAAAAAAAAAAAAAAAAAAAAAAAAAAAAAAAAAAAAAAAAAAAAAAAAAAAAAAAAAAAAAAAAAAAAAAAAAAAAAAAAAAAAAAAAAAAAAAAAAAAAAAAAAAAAAAAAAAAAAAAAAAAAAAAAAAAAAAAAAAAAAAAAAAAAAAAAAAAAAAAAAAAAAAAAAAAAAAAAAAAAAAAAAAAAAAAAAAAAAAAAAAAAAAAAAAAAAAAAAAAAAAAAAAAAAAAAAAAAAAAAAAAAAAAAAAAAAAAAAAAAAAAAAAAAAAAAAAAAAAAAAAAAAAAAAAAAAAAAAAAAAAAAAAAAAAAAAAAAAAAAAAAAAAAAAAAAAAAAAAAAAAAAAAAAAAAAAAAAAAAAAAAAAAAAAAAAAAAAAAAAAAAAAAAAAAAAAAAAAAAAAAAAAAAAAAAAAAAAAAAAAAAAAAAAAAAAAAAAAAAAAAAAAAAAAAAAAAAAAAAAAAAAAAAAAAAAAAAAAAAAAAAAAAAAAAAAAAAAAAAAAAAAAAAAAAAAAAAAAAAAAAAAAAAAAAAAAAAAAAAAAAAAAAAAAAAAAAAAAAAAAAAAAAAAAAAAAAAAAAAAAAAAAAAAAAAAAAAAAAAAAAAAAAAAAAAAAAAAAAAAAAAAAAAAAAAAAAAAAAAAAAAAAAAAAAAAAAAAAAAAAAAAAAAAAAAAAAAAAAAAAAAAAAAAAAAAAAAAAAAAAAAAAAAAAAAAAAAAAAAAAAAAAAAAAAAAAAAAAAAAAAAAAAAAAAAAAAAAAAAAAAAAAAAAAAAAAAAAAAAAAAAAAAAAAAAAAAAAAAAAAAAAAAAAAAAAAAAAAAAAAAAAAAAAAAAAAAAAAAAAAAAAAAAAAAAAAAAAAAAAAAAAAAAAAAAAAAAAAAAAAAAAAAAAAAAAAAAAAAAAAAAAAAAAAAAAAAAAAAAAAAAAAAAAAAAAAAAAAAAAAAAAAAAAAAAAAAAAAAAAAAAAAAAAAAAAAAAAAAAAAAAAAAAAAAAAAAAAAAAAAAAAAAAAAAAAAAAAAAAAAAAAAAAAAAAAAAAAAAAAAAAAAAAAAAAAAAAAAAAAAAAAAAAAAAAAAAAAAAAAAAAAAAAAAAAAAAAAAAAAAAAAAAAAAAAAAAAAAAAAAAAAAAAAAAAAAAAAAAAAAAAAAAAAAAAAAAAAAAAAAAAAAAAAAAAAAAAAAAAAAAAAAAAAAAAAAAAAAAAAAAAAAAAAAAAAAAAAAAAAAAAAAAAAAAAAAAAAAAAAAAAAAAAAAAAAAAAAAAAAAAAAAAAAAAAAAAAAAAAAAAAAAAAAAAAAAAAAAAAAAAAAAAAAAAAAAAAAAAAAAAAAAAAAAAAAAAAAAAAAAAAAAAAAAAAAAAAAAAAAAAAAAAAAAAAAAAAAAAAAAAAAAAAAAAAAAAAAAAAAAAAAAAAAAAAAAAAAAAAAAAAAAAAAAAAAAAAAAAAAAAAAAAAAAAAAAAAAAAAAAAAAAAAAAAAAAAAAAAAAAAAAAAAAAAAAAAAAAAAAAAAAAAAAAAAAAAAAAAAAAAAAAAAAAAAAAAAAAAAAAAAAAAAAAADIwMjE6MTE6MjkgMTY6MTg6MjcAMjAyMToxMToyOSAxNjoxODoyNwAAAEkAdgBhAG4AIABMAGkAbgAgACgAVABlAHMAdAApAAAA/+ELImh0dHA6Ly9ucy5hZG9iZS5jb20veGFwLzEuMC8APD94cGFja2V0IGJlZ2luPSfvu78nIGlkPSdXNU0wTXBDZWhpSHpyZVN6TlRjemtjOWQnPz4NCjx4OnhtcG1ldGEgeG1sbnM6eD0iYWRvYmU6bnM6bWV0YS8iPjxyZGY6UkRGIHhtbG5zOnJkZj0iaHR0cDovL3d3dy53My5vcmcvMTk5OS8wMi8yMi1yZGYtc3ludGF4LW5zIyI+PHJkZjpEZXNjcmlwdGlvbiByZGY6YWJvdXQ9InV1aWQ6ZmFmNWJkZDUtYmEzZC0xMWRhLWFkMzEtZDMzZDc1MTgyZjFiIiB4bWxuczpkYz0iaHR0cDovL3B1cmwub3JnL2RjL2VsZW1lbnRzLzEuMS8iLz48cmRmOkRlc2NyaXB0aW9uIHJkZjphYm91dD0idXVpZDpmYWY1YmRkNS1iYTNkLTExZGEtYWQzMS1kMzNkNzUxODJmMWIiIHhtbG5zOnhtcD0iaHR0cDovL25zLmFkb2JlLmNvbS94YXAvMS4wLyI+PHhtcDpDcmVhdGVEYXRlPjIwMjEtMTEtMjlUMTY6MTg6MjcuMjEyPC94bXA6Q3JlYXRlRGF0ZT48L3JkZjpEZXNjcmlwdGlvbj48cmRmOkRlc2NyaXB0aW9uIHJkZjphYm91dD0idXVpZDpmYWY1YmRkNS1iYTNkLTExZGEtYWQzMS1kMzNkNzUxODJmMWIiIHhtbG5zOmRjPSJodHRwOi8vcHVybC5vcmcvZGMvZWxlbWVudHMvMS4xLyI+PGRjOmNyZWF0b3I+PHJkZjpTZXEgeG1sbnM6cmRmPSJodHRwOi8vd3d3LnczLm9yZy8xOTk5LzAyLzIyLXJkZi1zeW50YXgtbnMjIj48cmRmOmxpPkl2YW4gTGluIChUZXN0KTwvcmRmOmxpPjwvcmRmOlNlcT4NCgkJCTwvZGM6Y3JlYXRvcj48L3JkZjpEZXNjcmlwdGlvbj48L3JkZjpSREY+PC94OnhtcG1ldGE+DQogICAgICAgICAgICAgICAgICAgICAgICAgICAgICAgICAgICAgICAgICAgICAgICAgICAgICAgICAgICAgICAgICAgICAgICAgICAgICAgICAgICAgICAgICAgICAgICAgICAgCiAgICAgICAgICAgICAgICAgICAgICAgICAgICAgICAgICAgICAgICAgICAgICAgICAgICAgICAgICAgICAgICAgICAgICAgICAgICAgICAgICAgICAgICAgICAgICAgICAgICAKICAgICAgICAgICAgICAgICAgICAgICAgICAgICAgICAgICAgICAgICAgICAgICAgICAgICAgICAgICAgICAgICAgICAgICAgICAgICAgICAgICAgICAgICAgICAgICAgICAgIAogICAgICAgICAgICAgICAgICAgICAgICAgICAgICAgICAgICAgICAgICAgICAgICAgICAgICAgICAgICAgICAgICAgICAgICAgICAgICAgICAgICAgICAgICAgICAgICAgICAgCiAgICAgICAgICAgICAgICAgICAgICAgICAgICAgICAgICAgICAgICAgICAgICAgICAgICAgICAgICAgICAgICAgICAgICAgICAgICAgICAgICAgICAgICAgICAgICAgICAgICAKICAgICAgICAgICAgICAgICAgICAgICAgICAgICAgICAgICAgICAgICAgICAgICAgICAgICAgICAgICAgICAgICAgICAgICAgICAgICAgICAgICAgICAgICAgICAgICAgICAgIAogICAgICAgICAgICAgICAgICAgICAgICAgICAgICAgICAgICAgICAgICAgICAgICAgICAgICAgICAgICAgICAgICAgICAgICAgICAgICAgICAgICAgICAgICAgICAgICAgICAgCiAgICAgICAgICAgICAgICAgICAgICAgICAgICAgICAgICAgICAgICAgICAgICAgICAgICAgICAgICAgICAgICAgICAgICAgICAgICAgICAgICAgICAgICAgICAgICAgICAgICAKICAgICAgICAgICAgICAgICAgICAgICAgICAgICAgICAgICAgICAgICAgICAgICAgICAgICAgICAgICAgICAgICAgICAgICAgICAgICAgICAgICAgICAgICAgICAgICAgICAgIAogICAgICAgICAgICAgICAgICAgICAgICAgICAgICAgICAgICAgICAgICAgICAgICAgICAgICAgICAgICAgICAgICAgICAgICAgICAgICAgICAgICAgICAgICAgICAgICAgICAgCiAgICAgICAgICAgICAgICAgICAgICAgICAgICAgICAgICAgICAgICAgICAgICAgICAgICAgICAgICAgICAgICAgICAgICAgICAgICAgICAgICAgICAgICAgICAgICAgICAgICAKICAgICAgICAgICAgICAgICAgICAgICAgICAgICAgICAgICAgICAgICAgICAgICAgICAgICAgICAgICAgICAgICAgICAgICAgICAgICAgICAgICAgICAgICAgICAgICAgICAgIAogICAgICAgICAgICAgICAgICAgICAgICAgICAgICAgICAgICAgICAgICAgICAgICAgICAgICAgICAgICAgICAgICAgICAgICAgICAgICAgICAgICAgICAgICAgICAgICAgICAgCiAgICAgICAgICAgICAgICAgICAgICAgICAgICAgICAgICAgICAgICAgICAgICAgICAgICAgICAgICAgICAgICAgICAgICAgICAgICAgICAgICAgICAgICAgICAgICAgICAgICAKICAgICAgICAgICAgICAgICAgICAgICAgICAgICAgICAgICAgICAgICAgICAgICAgICAgICAgICAgICAgICAgICAgICAgICAgICAgICAgICAgICAgICAgICAgICAgICAgICAgIAogICAgICAgICAgICAgICAgICAgICAgICAgICAgICAgICAgICAgICAgICAgICAgICAgICAgICAgICAgICAgICAgICAgICAgICAgICAgICAgICAgICAgICAgICAgICAgICAgICAgCiAgICAgICAgICAgICAgICAgICAgICAgICAgICAgICAgICAgICAgICAgICAgICAgICAgICAgICAgICAgICAgICAgICAgICAgICAgICAgICAgICAgICAgICAgICAgICAgICAgICAKICAgICAgICAgICAgICAgICAgICAgICAgICAgICAgICAgICAgICAgICAgICAgICAgICAgICAgICAgICAgICAgICAgICAgICAgICAgICAgICAgICAgICAgICAgICAgICAgICAgIAogICAgICAgICAgICAgICAgICAgICAgICAgICAgICAgICAgICAgICAgICAgICAgICAgICAgICAgICAgICAgICAgICAgICAgICAgICAgICAgICAgICAgICAgICAgICAgICAgICAgCiAgICAgICAgICAgICAgICAgICAgICAgICAgICAgICAgICAgICAgICAgICAgICAgICAgICAgICAgICAgICAgICAgICAgICAgICAgICAgICAgICAgICAgICAgICAgICAgICAgICAKICAgICAgICAgICAgICAgICAgICAgICAgICAgIDw/eHBhY2tldCBlbmQ9J3cnPz7/2wBDAAcFBQYFBAcGBQYIBwcIChELCgkJChUPEAwRGBUaGRgVGBcbHichGx0lHRcYIi4iJSgpKywrGiAvMy8qMicqKyr/2wBDAQcICAoJChQLCxQqHBgcKioqKioqKioqKioqKioqKioqKioqKioqKioqKioqKioqKioqKioqKioqKioqKioqKir/wAARCABAAJ8DASIAAhEBAxEB/8QAHwAAAQUBAQEBAQEAAAAAAAAAAAECAwQFBgcICQoL/8QAtRAAAgEDAwIEAwUFBAQAAAF9AQIDAAQRBRIhMUEGE1FhByJxFDKBkaEII0KxwRVS0fAkM2JyggkKFhcYGRolJicoKSo0NTY3ODk6Q0RFRkdISUpTVFVWV1hZWmNkZWZnaGlqc3R1dnd4eXqDhIWGh4iJipKTlJWWl5iZmqKjpKWmp6ipqrKztLW2t7i5usLDxMXGx8jJytLT1NXW19jZ2uHi4+Tl5ufo6erx8vP09fb3+Pn6/8QAHwEAAwEBAQEBAQEBAQAAAAAAAAECAwQFBgcICQoL/8QAtREAAgECBAQDBAcFBAQAAQJ3AAECAxEEBSExBhJBUQdhcRMiMoEIFEKRobHBCSMzUvAVYnLRChYkNOEl8RcYGRomJygpKjU2Nzg5OkNERUZHSElKU1RVVldYWVpjZGVmZ2hpanN0dXZ3eHl6goOEhYaHiImKkpOUlZaXmJmaoqOkpaanqKmqsrO0tba3uLm6wsPExcbHyMnK0tPU1dbX2Nna4uPk5ebn6Onq8vP09fb3+Pn6/9oADAMBAAIRAxEAPwD6RooooAKKKKACiiigAorD8Y/bV8KajPp+oSWDwWksvmQopfKqSMFgQBxzxn0IqTwjPLdeCtFnuZXmmlsIXkkdizOxQEkk9TQtb+Vvxv8A5A9Led/wt/mbFFFFABRRRQAUUUUAFFFFABRRRQAUUUUAFFFFABRWP4m8V6L4P02PUPEd79jtZJhAknlPJlyCwGEBPRTz04rl/wDhenw5/wChi/8AJG4/+N0AegUV5/8A8L0+HP8A0MX/AJI3H/xuj/henw5/6GL/AMkbj/43QB0fjJr9/C19aaVpNxqdxeW8kCJDJEgQshAZjI68ZPbJ9qb4JF/B4S0+x1TS7jTriytordlnkicSFUALKY3bjI74PtXPf8L0+HP/AEMX/kjcf/G6P+F6fDn/AKGL/wAkbj/43QtL+f6f8OD1t5fr/wAMegUV5/8A8L0+HP8A0MX/AJI3H/xuj/henw5/6GL/AMkbj/43QB6BRXn/APwvT4c/9DF/5I3H/wAbrsNC13TvEuiwatolx9psbjd5Uuxk3bWKnhgCOVI5FAFe/wDF3hvS7x7TU/EOlWdzHjfDcXscbrkZGVLAjin6d4q8PaxdfZdI13TL+42lvKtbyOV8DqcKScVzXj3S7nSryHxzoMW7UNLjK3sCnH2y06uh/wBpfvKfauhtbPTddu9K8UQI4mFo3kOV2kxShWwwIz2Bx25oWq/r5f16g9H/AF8/69DZoJABJOAOpNFQ3l1HZWM91OcRwRtI59Aoyf5UAMsNSsdVtzcaXe297CGKGS3lWRQw6jKkjI9Ks1xXw7mh0j4YaZqOrTpA2ot9slkc4BkuZSyj8TIoH4V2tABRRRQAUUUUAFM86PzCnmJvBAK7hkE1zPxL1m+8P/DbWtT0nd9sgg/dso5j3MFL/wDAQS34VyFhpGgS/FnwzY+H4opV0PTri7ub2NQ32iR9ka7pf42yWY8nk0Aei3GsY1ldLsIPtVyqrLcEvsS3jJwCxweTg4UDnHOBzWi8qRsod1UscKCcZPtXJ+C2lk1/xhJdD98NX8sE9fLEEewfTBz+JrzfXb7T9Y8GeIZ9TEF/4k1fVpNLtYnUO9kgmESKBjMagYYnjLMO5FHReaT+/UOrPdVYOoZCGVhkEHIIpagtrVbOwhtbbCJDEsceRwABgcfhWN9j8Y/9B3Q//BJN/wDJVAHQVz2t+K/7H1rS9P8A7MuZl1C8W0+0kqkcbFS3f5m4B6DHGMg1qaZFqkUDjWby0u5S2Ve0tGgULjoQ0j5PvkfSuX+IDous+DAzKCddTAJ6/upP8aPtL1X5h9l+j/I6LUtY/sm6hN9BssZnSIXavkRyMcAOuOASQAwJ5POOtadc58Qwh+G3iHzDgDT5iD6EISP1xWxpTyyaNZPc/wCua3jMmf720Z/WhbMHpbz/AEt/med+OfiN4Vh8TDwxr2rJa2MAWXUAsUkpnPVYPkU4Hd84yMLzk41tE+Kfh/xR4rsdF8KXa3qNDLLcubeSPy1UAKBuC8kn0PAruaKFotQeuwVm+I9IOv8AhjU9IE/2c39rJb+bt3bN6lc4yM9ema0qKAOB1iS68PJ4Q03UdVGZtSWOWWFDBGY44HZYggJzuZEABLEkkDqAO+oIBxkdOntRQAUUUUAFFFFADZI0ljaOVFdGGGVhkEehFc3pPhu507x1qmrH7IthcWcFraQwgq0CxliRjGMFnY8dMDrmumooAx30ie18QPqulNEDdqiXsEpIWQLwsikA4cAkdMMABxjNUPEvheXVb/SZ9Ojs4ltdSjvrsOu1rgoDsGVByQTu57qK6eigAooooAKyNQ8JeHNWvGu9U8P6Xe3LABprmyjkcgcDLMCa16KAMPU9A/tK3h0kJb2uiRhN8EIwZVU5EW0ABE4GcZyMjA77nTpRRQBipq7z+N5NIidlS1sRPMhhBDF3xGQ+7j7kg27ffPTJfeIzb6lLY6dpGoatPAqtOLMwqId3KgtLIgJI5wMkd8ZFJZaBNZ+MNT1oXweHUI4ka2MADIY1IHz55X5mOMDljz2rI134fW2qeILjVoIdDlmukRZl1fR1vcFRgFDvQrxgEZI4HTnKGPv/ABdeWGtazbXMUMMVnpcN5bRtGWleWVnRYzhsMd6bcL1LgZ4yek0ptQfSbZ9ZWBL5ow06W+diMf4QTycdM9+vHSsVvBlvN4usNcnmX/Q7JLYWkMWyJnRmKPjJwF3vtXsSDnIFdLVPclbahRRRSGFFFFAH/9k=)"
      ]
    },
    {
      "cell_type": "code",
      "metadata": {
        "colab": {
          "base_uri": "https://localhost:8080/"
        },
        "id": "DJYfa7CtTZhr",
        "outputId": "f9e262b8-2be6-4460-d901-4f48585be983"
      },
      "source": [
        "# Characteristic path length can be computed through networkx using the following function:\n",
        "char_path = nx.average_shortest_path_length(G)\n",
        "print(f\"characterisitc path len (by nx)= {char_path}\")\n",
        "\n",
        "### ************************************************************\n",
        "## manually calculate the characterisitic path length\n",
        "vPath = np.zeros(len(nodes)+1, dtype=float)\n",
        "for srcNode in range(1, len(nodes)+1):\n",
        "  for dstNode in range(1, len(nodes)+1):\n",
        "    pathlen = nx.shortest_path_length(G, srcNode, dstNode)\n",
        "    #print(f\"shortest path {srcNode} to {dstNode} = {nx.shortest_path_length(G, srcNode, dstNode)}\")\n",
        "    vPath[srcNode] = vPath[srcNode] + nx.shortest_path_length(G, srcNode, dstNode)\n",
        "  print(f\"TotPath({list(nodes.values())[srcNode-1]}) = {vPath[srcNode]}\")\n",
        "\n",
        "TotPathLen = sum(vPath)\n",
        "print(f\"characterisitc path len (by maunal)= {TotPathLen/(len(nodes)*(len(nodes)-1))}\")  "
      ],
      "execution_count": 11,
      "outputs": [
        {
          "output_type": "stream",
          "name": "stdout",
          "text": [
            "characterisitc path len (by nx)= 2.1904761904761907\n",
            "TotPath(Dublin) = 15.0\n",
            "TotPath(Paris) = 15.0\n",
            "TotPath(Milan) = 11.0\n",
            "TotPath(Rome) = 10.0\n",
            "TotPath(Naples) = 11.0\n",
            "TotPath(Moscow) = 15.0\n",
            "TotPath(Tokyo) = 15.0\n",
            "characterisitc path len (by maunal)= 2.1904761904761907\n"
          ]
        }
      ]
    },
    {
      "cell_type": "code",
      "metadata": {
        "id": "P8R1VCyTzyG_"
      },
      "source": [
        ""
      ],
      "execution_count": 11,
      "outputs": []
    },
    {
      "cell_type": "markdown",
      "metadata": {
        "id": "x4ru4tTeyIHQ"
      },
      "source": [
        "However, this metric cannot be always defined since it is not possible to compute a path among all the nodes in disconnected graphs. For this reason, network efficiency is also widely used."
      ]
    },
    {
      "cell_type": "markdown",
      "metadata": {
        "id": "uC7OadvGulnu"
      },
      "source": [
        "### Efficiency - Global Efficiency and Local Efficiency"
      ]
    },
    {
      "cell_type": "markdown",
      "metadata": {
        "id": "cBAvQ7bWzQOQ"
      },
      "source": [
        "Global efficiency is the average of the inverse shortest path length for all pairs of nodes.  Such a metric can be seen as a measure of how efficiently information is exchanged across a network. Consider that ***l*** is the shortest path between a node and a node . The network efficiency is defined as follows:"
      ]
    },
    {
      "cell_type": "markdown",
      "metadata": {
        "id": "IUGa571Uz9I6"
      },
      "source": [
        "![Capture.JPG](data:image/jpeg;base64,/9j/4AAQSkZJRgABAQEAkACQAAD/4RD6RXhpZgAATU0AKgAAAAgABAE7AAIAAAAQAAAISodpAAQAAAABAAAIWpydAAEAAAAgAAAQ0uocAAcAAAgMAAAAPgAAAAAc6gAAAAgAAAAAAAAAAAAAAAAAAAAAAAAAAAAAAAAAAAAAAAAAAAAAAAAAAAAAAAAAAAAAAAAAAAAAAAAAAAAAAAAAAAAAAAAAAAAAAAAAAAAAAAAAAAAAAAAAAAAAAAAAAAAAAAAAAAAAAAAAAAAAAAAAAAAAAAAAAAAAAAAAAAAAAAAAAAAAAAAAAAAAAAAAAAAAAAAAAAAAAAAAAAAAAAAAAAAAAAAAAAAAAAAAAAAAAAAAAAAAAAAAAAAAAAAAAAAAAAAAAAAAAAAAAAAAAAAAAAAAAAAAAAAAAAAAAAAAAAAAAAAAAAAAAAAAAAAAAAAAAAAAAAAAAAAAAAAAAAAAAAAAAAAAAAAAAAAAAAAAAAAAAAAAAAAAAAAAAAAAAAAAAAAAAAAAAAAAAAAAAAAAAAAAAAAAAAAAAAAAAAAAAAAAAAAAAAAAAAAAAAAAAAAAAAAAAAAAAAAAAAAAAAAAAAAAAAAAAAAAAAAAAAAAAAAAAAAAAAAAAAAAAAAAAAAAAAAAAAAAAAAAAAAAAAAAAAAAAAAAAAAAAAAAAAAAAAAAAAAAAAAAAAAAAAAAAAAAAAAAAAAAAAAAAAAAAAAAAAAAAAAAAAAAAAAAAAAAAAAAAAAAAAAAAAAAAAAAAAAAAAAAAAAAAAAAAAAAAAAAAAAAAAAAAAAAAAAAAAAAAAAAAAAAAAAAAAAAAAAAAAAAAAAAAAAAAAAAAAAAAAAAAAAAAAAAAAAAAAAAAAAAAAAAAAAAAAAAAAAAAAAAAAAAAAAAAAAAAAAAAAAAAAAAAAAAAAAAAAAAAAAAAAAAAAAAAAAAAAAAAAAAAAAAAAAAAAAAAAAAAAAAAAAAAAAAAAAAAAAAAAAAAAAAAAAAAAAAAAAAAAAAAAAAAAAAAAAAAAAAAAAAAAAAAAAAAAAAAAAAAAAAAAAAAAAAAAAAAAAAAAAAAAAAAAAAAAAAAAAAAAAAAAAAAAAAAAAAAAAAAAAAAAAAAAAAAAAAAAAAAAAAAAAAAAAAAAAAAAAAAAAAAAAAAAAAAAAAAAAAAAAAAAAAAAAAAAAAAAAAAAAAAAAAAAAAAAAAAAAAAAAAAAAAAAAAAAAAAAAAAAAAAAAAAAAAAAAAAAAAAAAAAAAAAAAAAAAAAAAAAAAAAAAAAAAAAAAAAAAAAAAAAAAAAAAAAAAAAAAAAAAAAAAAAAAAAAAAAAAAAAAAAAAAAAAAAAAAAAAAAAAAAAAAAAAAAAAAAAAAAAAAAAAAAAAAAAAAAAAAAAAAAAAAAAAAAAAAAAAAAAAAAAAAAAAAAAAAAAAAAAAAAAAAAAAAAAAAAAAAAAAAAAAAAAAAAAAAAAAAAAAAAAAAAAAAAAAAAAAAAAAAAAAAAAAAAAAAAAAAAAAAAAAAAAAAAAAAAAAAAAAAAAAAAAAAAAAAAAAAAAAAAAAAAAAAAAAAAAAAAAAAAAAAAAAAAAAAAAAAAAAAAAAAAAAAAAAAAAAAAAAAAAAAAAAAAAAAAAAAAAAAAAAAAAAAAAAAAAAAAAAAAAAAAAAAAAAAAAAAAAAAAAAAAAAAAAAAAAAAAAAAAAAAAAAAAAAAAAAAAAAAAAAAAAAAAAAAAAAAAAAAAAAAAAAAAAAAAAAAAAAAAAAAAAAAAAAAAAAAAAAAAAAAAAAAAAAAAAAAAAAAAAAAAAAAAAAAAAAAAAAAAAAAAAAAAAAAAAAAAAAAAAAAAAAAAAAAAAAAAAAAAAAAAAAAAAAAAAAAAAAAAAAAAAAAAAAAAAAAAAAAAAAAAAAAAAAAAAAAAAAAAAAAAAAAAAAAAAAAAAAAAAAAAAAAAAAAAAAAAAAAAAAAAAAAAAAAAAAAAAAAAAAAAAAAAAAAAAAAAAAAAAAAAAAAAAAAAAAAAAAAAAAAAAAAAAAAAAAAAAAAAAAAAAAAAAAAAAAAAAAAAAAAAAAAAAAAAAAAAAAAAAAAAAAAAAAAAAAAAAAAAAAAAAAAAAAAAAAAAAAAAAAAAAAAAAAAAAAAAAAAAAAAAAAAAAAAAAAAAAAAAAAAAAAAAAAAAAAAAAAAAAAAAAAAAAAAAAAAAAAAAAAAAAAAAAAAAAAAAAAAAAAAAAAAAAAAAAAAAAAAAAAAAAAAAAAAAAAAAAAAAAAAAAAAAAAAAAAAAAAAAAAAAAAAAAAAAAAAAAAAAAAAAAAAAAAAAAAAAAAAAAAAAAAAAAAAAAAAAAAAAAAAAAAAAAAAAAAAAAAAAAAAAAAAAAAAAAAAAAAAAAAAAAAAAAAAAAAAAAAAAAAAAAAAAAAAAAAAAAAAAAAAAAAAAAAAAAAAAAAAAAAAAAAAAAAAAAAAAAAAAAAAAAAAAAAAAAAAAAAAAAAAAAAAAAAAAAAAAAAAAAAAAAAAAAAAAAAAAAAAAAAAAAAAAAAAAAAAAAAAAAAAAAAAAAAAAAAAAAAAAAAAAAAAAAAAAAAAAAAAAAAAAAAAAAAAAAAAAAAAAAAAAAAAAAAAAAAAAAAAAAAAAAAAAAAAAAAAAAAAAAAAAAAAAAAAAAAAAAAAAAAAAAAAAAAAAAAAAAAAAAAAAAAAAAAAAAAAAAAAAAAAAAAAAAAAAAAAAAAAAAAAAAAAAAAAAAAAAAAAAAAAAAAAAAAAAAAAAAAAAAAAAAAAAAAAAAAAAAAAAAAAAAAAAAAAAAAAAAAAAAAAAAAAAAAAAAAAAAAAAAAAAAAAAAAAAAAAAAAAAAAAAAAAAAAAAAAAAAAAAAAAAAAAAAAAAAAAAEl2YW4gTGluIChUZXN0KQAABZADAAIAAAAUAAAQqJAEAAIAAAAUAAAQvJKRAAIAAAADMjAAAJKSAAIAAAADMjAAAOocAAcAAAgMAAAInAAAAAAc6gAAAAgAAAAAAAAAAAAAAAAAAAAAAAAAAAAAAAAAAAAAAAAAAAAAAAAAAAAAAAAAAAAAAAAAAAAAAAAAAAAAAAAAAAAAAAAAAAAAAAAAAAAAAAAAAAAAAAAAAAAAAAAAAAAAAAAAAAAAAAAAAAAAAAAAAAAAAAAAAAAAAAAAAAAAAAAAAAAAAAAAAAAAAAAAAAAAAAAAAAAAAAAAAAAAAAAAAAAAAAAAAAAAAAAAAAAAAAAAAAAAAAAAAAAAAAAAAAAAAAAAAAAAAAAAAAAAAAAAAAAAAAAAAAAAAAAAAAAAAAAAAAAAAAAAAAAAAAAAAAAAAAAAAAAAAAAAAAAAAAAAAAAAAAAAAAAAAAAAAAAAAAAAAAAAAAAAAAAAAAAAAAAAAAAAAAAAAAAAAAAAAAAAAAAAAAAAAAAAAAAAAAAAAAAAAAAAAAAAAAAAAAAAAAAAAAAAAAAAAAAAAAAAAAAAAAAAAAAAAAAAAAAAAAAAAAAAAAAAAAAAAAAAAAAAAAAAAAAAAAAAAAAAAAAAAAAAAAAAAAAAAAAAAAAAAAAAAAAAAAAAAAAAAAAAAAAAAAAAAAAAAAAAAAAAAAAAAAAAAAAAAAAAAAAAAAAAAAAAAAAAAAAAAAAAAAAAAAAAAAAAAAAAAAAAAAAAAAAAAAAAAAAAAAAAAAAAAAAAAAAAAAAAAAAAAAAAAAAAAAAAAAAAAAAAAAAAAAAAAAAAAAAAAAAAAAAAAAAAAAAAAAAAAAAAAAAAAAAAAAAAAAAAAAAAAAAAAAAAAAAAAAAAAAAAAAAAAAAAAAAAAAAAAAAAAAAAAAAAAAAAAAAAAAAAAAAAAAAAAAAAAAAAAAAAAAAAAAAAAAAAAAAAAAAAAAAAAAAAAAAAAAAAAAAAAAAAAAAAAAAAAAAAAAAAAAAAAAAAAAAAAAAAAAAAAAAAAAAAAAAAAAAAAAAAAAAAAAAAAAAAAAAAAAAAAAAAAAAAAAAAAAAAAAAAAAAAAAAAAAAAAAAAAAAAAAAAAAAAAAAAAAAAAAAAAAAAAAAAAAAAAAAAAAAAAAAAAAAAAAAAAAAAAAAAAAAAAAAAAAAAAAAAAAAAAAAAAAAAAAAAAAAAAAAAAAAAAAAAAAAAAAAAAAAAAAAAAAAAAAAAAAAAAAAAAAAAAAAAAAAAAAAAAAAAAAAAAAAAAAAAAAAAAAAAAAAAAAAAAAAAAAAAAAAAAAAAAAAAAAAAAAAAAAAAAAAAAAAAAAAAAAAAAAAAAAAAAAAAAAAAAAAAAAAAAAAAAAAAAAAAAAAAAAAAAAAAAAAAAAAAAAAAAAAAAAAAAAAAAAAAAAAAAAAAAAAAAAAAAAAAAAAAAAAAAAAAAAAAAAAAAAAAAAAAAAAAAAAAAAAAAAAAAAAAAAAAAAAAAAAAAAAAAAAAAAAAAAAAAAAAAAAAAAAAAAAAAAAAAAAAAAAAAAAAAAAAAAAAAAAAAAAAAAAAAAAAAAAAAAAAAAAAAAAAAAAAAAAAAAAAAAAAAAAAAAAAAAAAAAAAAAAAAAAAAAAAAAAAAAAAAAAAAAAAAAAAAAAAAAAAAAAAAAAAAAAAAAAAAAAAAAAAAAAAAAAAAAAAAAAAAAAAAAAAAAAAAAAAAAAAAAAAAAAAAAAAAAAAAAAAAAAAAAAAAAAAAAAAAAAAAAAAAAAAAAAAAAAAAAAAAAAAAAAAAAAAAAAAAAAAAAAAAAAAAAAAAAAAAAAAAAAAAAAAAAAAAAAAAAAAAAAAAAAAAAAAAAAAAAAAAAAAAAAAAAAAAAAAAAAAAAAAAAAAAAAAAAAAAAAAAAAAAAAAAAAAAAAAAAAAAAAAAAAAAAAAAAAAAAAAAAAAAAAAAAAAAAAAAAAAAAAAAAAAAAAAAAAAAAAAAAAAAAAAAAAAAAAAAAAAAAAAAAAAAAAAAAAAAAAAAAAAAAAAAAAAAAAAAAAAAAAAAAAAAAAAAAAAAAAAAAAAAAAAAAAAAAAAAAAAAAAAAAAAAAAAAAAAAAAAAAAAAAAAAAAAAAAAAAAAAAAAAAAAAAAAAAAAAAAAAAAAAAAAAAAAAAAAAAAAAAAAAAAAAAAAAAAAAAAAAAAAAAAAAAAAAAAAAAAAAAAAAAAAAAAAAAAAAAAAAAAAAAAAAAAAAAAAAAAAAAAAAAAAAAAAAAAAAAAAAAAAAAAAAAAAAAAAAAAAAAAAAAAAAAAAAAAAAAAAAAAAAAAAAAAAAAAAAAAAAAAAAAAAAAAAAAAAAAAAAAAAAAAAAAAAAAAAAAAAAAAAAAAAAAAAAAAAAAAAAAAAAAAAAAAAAAAAAAAAAAAAAAAAAAAAAAAAAAAAAAAAAAAAAAAAAAAAAAAAAAAAAAAAAAAAAAAAAAAAAAAAAAAAAAAAAAAAAAAAAAAAAAAAAAAAAAAAAAAAAAAAAAAAAAAAAAAAAAAAAAAAAAAAAAAAAAAAAAAAAAAAAAAAAAAAAAAAAAAAAAAAAAAAAAAAAAAAAAAAAAAAAAAAAAAAAAAAAAAAAAAAAAAAAAAAAAAAAAAAAAAAAAAAAAAAAAAAAAAAAAAAAAAAAAAAAAAAAAAAAAAAAAAAAAAAAAAAAAAAAAAAAAAAAAAAAAAAAAAAAAAAAAAAAAAAAAAAAAAAAAAAAAAAAAAAAAAAAAAAAAAAAAAAAAAAAAAAAAAAAAAAAAAAAAAAAAAAAAAAAAAAAAAAAAAAAAAAAAAAAAAAAAAAAAAAAAAAAAAAAAAAAAAAAAAAAAAAAAAAADIwMjE6MTE6MjkgMTY6Mjg6NTQAMjAyMToxMToyOSAxNjoyODo1NAAAAEkAdgBhAG4AIABMAGkAbgAgACgAVABlAHMAdAApAAAA/+ELImh0dHA6Ly9ucy5hZG9iZS5jb20veGFwLzEuMC8APD94cGFja2V0IGJlZ2luPSfvu78nIGlkPSdXNU0wTXBDZWhpSHpyZVN6TlRjemtjOWQnPz4NCjx4OnhtcG1ldGEgeG1sbnM6eD0iYWRvYmU6bnM6bWV0YS8iPjxyZGY6UkRGIHhtbG5zOnJkZj0iaHR0cDovL3d3dy53My5vcmcvMTk5OS8wMi8yMi1yZGYtc3ludGF4LW5zIyI+PHJkZjpEZXNjcmlwdGlvbiByZGY6YWJvdXQ9InV1aWQ6ZmFmNWJkZDUtYmEzZC0xMWRhLWFkMzEtZDMzZDc1MTgyZjFiIiB4bWxuczpkYz0iaHR0cDovL3B1cmwub3JnL2RjL2VsZW1lbnRzLzEuMS8iLz48cmRmOkRlc2NyaXB0aW9uIHJkZjphYm91dD0idXVpZDpmYWY1YmRkNS1iYTNkLTExZGEtYWQzMS1kMzNkNzUxODJmMWIiIHhtbG5zOnhtcD0iaHR0cDovL25zLmFkb2JlLmNvbS94YXAvMS4wLyI+PHhtcDpDcmVhdGVEYXRlPjIwMjEtMTEtMjlUMTY6Mjg6NTQuMjAyPC94bXA6Q3JlYXRlRGF0ZT48L3JkZjpEZXNjcmlwdGlvbj48cmRmOkRlc2NyaXB0aW9uIHJkZjphYm91dD0idXVpZDpmYWY1YmRkNS1iYTNkLTExZGEtYWQzMS1kMzNkNzUxODJmMWIiIHhtbG5zOmRjPSJodHRwOi8vcHVybC5vcmcvZGMvZWxlbWVudHMvMS4xLyI+PGRjOmNyZWF0b3I+PHJkZjpTZXEgeG1sbnM6cmRmPSJodHRwOi8vd3d3LnczLm9yZy8xOTk5LzAyLzIyLXJkZi1zeW50YXgtbnMjIj48cmRmOmxpPkl2YW4gTGluIChUZXN0KTwvcmRmOmxpPjwvcmRmOlNlcT4NCgkJCTwvZGM6Y3JlYXRvcj48L3JkZjpEZXNjcmlwdGlvbj48L3JkZjpSREY+PC94OnhtcG1ldGE+DQogICAgICAgICAgICAgICAgICAgICAgICAgICAgICAgICAgICAgICAgICAgICAgICAgICAgICAgICAgICAgICAgICAgICAgICAgICAgICAgICAgICAgICAgICAgICAgICAgICAgCiAgICAgICAgICAgICAgICAgICAgICAgICAgICAgICAgICAgICAgICAgICAgICAgICAgICAgICAgICAgICAgICAgICAgICAgICAgICAgICAgICAgICAgICAgICAgICAgICAgICAKICAgICAgICAgICAgICAgICAgICAgICAgICAgICAgICAgICAgICAgICAgICAgICAgICAgICAgICAgICAgICAgICAgICAgICAgICAgICAgICAgICAgICAgICAgICAgICAgICAgIAogICAgICAgICAgICAgICAgICAgICAgICAgICAgICAgICAgICAgICAgICAgICAgICAgICAgICAgICAgICAgICAgICAgICAgICAgICAgICAgICAgICAgICAgICAgICAgICAgICAgCiAgICAgICAgICAgICAgICAgICAgICAgICAgICAgICAgICAgICAgICAgICAgICAgICAgICAgICAgICAgICAgICAgICAgICAgICAgICAgICAgICAgICAgICAgICAgICAgICAgICAKICAgICAgICAgICAgICAgICAgICAgICAgICAgICAgICAgICAgICAgICAgICAgICAgICAgICAgICAgICAgICAgICAgICAgICAgICAgICAgICAgICAgICAgICAgICAgICAgICAgIAogICAgICAgICAgICAgICAgICAgICAgICAgICAgICAgICAgICAgICAgICAgICAgICAgICAgICAgICAgICAgICAgICAgICAgICAgICAgICAgICAgICAgICAgICAgICAgICAgICAgCiAgICAgICAgICAgICAgICAgICAgICAgICAgICAgICAgICAgICAgICAgICAgICAgICAgICAgICAgICAgICAgICAgICAgICAgICAgICAgICAgICAgICAgICAgICAgICAgICAgICAKICAgICAgICAgICAgICAgICAgICAgICAgICAgICAgICAgICAgICAgICAgICAgICAgICAgICAgICAgICAgICAgICAgICAgICAgICAgICAgICAgICAgICAgICAgICAgICAgICAgIAogICAgICAgICAgICAgICAgICAgICAgICAgICAgICAgICAgICAgICAgICAgICAgICAgICAgICAgICAgICAgICAgICAgICAgICAgICAgICAgICAgICAgICAgICAgICAgICAgICAgCiAgICAgICAgICAgICAgICAgICAgICAgICAgICAgICAgICAgICAgICAgICAgICAgICAgICAgICAgICAgICAgICAgICAgICAgICAgICAgICAgICAgICAgICAgICAgICAgICAgICAKICAgICAgICAgICAgICAgICAgICAgICAgICAgICAgICAgICAgICAgICAgICAgICAgICAgICAgICAgICAgICAgICAgICAgICAgICAgICAgICAgICAgICAgICAgICAgICAgICAgIAogICAgICAgICAgICAgICAgICAgICAgICAgICAgICAgICAgICAgICAgICAgICAgICAgICAgICAgICAgICAgICAgICAgICAgICAgICAgICAgICAgICAgICAgICAgICAgICAgICAgCiAgICAgICAgICAgICAgICAgICAgICAgICAgICAgICAgICAgICAgICAgICAgICAgICAgICAgICAgICAgICAgICAgICAgICAgICAgICAgICAgICAgICAgICAgICAgICAgICAgICAKICAgICAgICAgICAgICAgICAgICAgICAgICAgICAgICAgICAgICAgICAgICAgICAgICAgICAgICAgICAgICAgICAgICAgICAgICAgICAgICAgICAgICAgICAgICAgICAgICAgIAogICAgICAgICAgICAgICAgICAgICAgICAgICAgICAgICAgICAgICAgICAgICAgICAgICAgICAgICAgICAgICAgICAgICAgICAgICAgICAgICAgICAgICAgICAgICAgICAgICAgCiAgICAgICAgICAgICAgICAgICAgICAgICAgICAgICAgICAgICAgICAgICAgICAgICAgICAgICAgICAgICAgICAgICAgICAgICAgICAgICAgICAgICAgICAgICAgICAgICAgICAKICAgICAgICAgICAgICAgICAgICAgICAgICAgICAgICAgICAgICAgICAgICAgICAgICAgICAgICAgICAgICAgICAgICAgICAgICAgICAgICAgICAgICAgICAgICAgICAgICAgIAogICAgICAgICAgICAgICAgICAgICAgICAgICAgICAgICAgICAgICAgICAgICAgICAgICAgICAgICAgICAgICAgICAgICAgICAgICAgICAgICAgICAgICAgICAgICAgICAgICAgCiAgICAgICAgICAgICAgICAgICAgICAgICAgICAgICAgICAgICAgICAgICAgICAgICAgICAgICAgICAgICAgICAgICAgICAgICAgICAgICAgICAgICAgICAgICAgICAgICAgICAKICAgICAgICAgICAgICAgICAgICAgICAgICAgIDw/eHBhY2tldCBlbmQ9J3cnPz7/2wBDAAcFBQYFBAcGBQYIBwcIChELCgkJChUPEAwRGBUaGRgVGBcbHichGx0lHRcYIi4iJSgpKywrGiAvMy8qMicqKyr/2wBDAQcICAoJChQLCxQqHBgcKioqKioqKioqKioqKioqKioqKioqKioqKioqKioqKioqKioqKioqKioqKioqKioqKir/wAARCABuAPwDASIAAhEBAxEB/8QAHwAAAQUBAQEBAQEAAAAAAAAAAAECAwQFBgcICQoL/8QAtRAAAgEDAwIEAwUFBAQAAAF9AQIDAAQRBRIhMUEGE1FhByJxFDKBkaEII0KxwRVS0fAkM2JyggkKFhcYGRolJicoKSo0NTY3ODk6Q0RFRkdISUpTVFVWV1hZWmNkZWZnaGlqc3R1dnd4eXqDhIWGh4iJipKTlJWWl5iZmqKjpKWmp6ipqrKztLW2t7i5usLDxMXGx8jJytLT1NXW19jZ2uHi4+Tl5ufo6erx8vP09fb3+Pn6/8QAHwEAAwEBAQEBAQEBAQAAAAAAAAECAwQFBgcICQoL/8QAtREAAgECBAQDBAcFBAQAAQJ3AAECAxEEBSExBhJBUQdhcRMiMoEIFEKRobHBCSMzUvAVYnLRChYkNOEl8RcYGRomJygpKjU2Nzg5OkNERUZHSElKU1RVVldYWVpjZGVmZ2hpanN0dXZ3eHl6goOEhYaHiImKkpOUlZaXmJmaoqOkpaanqKmqsrO0tba3uLm6wsPExcbHyMnK0tPU1dbX2Nna4uPk5ebn6Onq8vP09fb3+Pn6/9oADAMBAAIRAxEAPwD6RooooAKKKKACiiigAooooAKKa8iRRtJKyoijLMxwAPUmub0T4g+HfEniW40TQrz7dPbQmaWaFcwqMgYD/wAR+btkcHmhauwbK501FFFABRRRQAUUUUAFFFFABRRRQAUUUUAFFFFABRR0rl4viL4buvGEHhnT78XupS79y2w3pFtUk7n6Z4xgZOeoFG7sGyudRRRRQAUUUUAFFFFABRRRQAUUUUAFFFFABRRRQBT1LSbDWbdINVtI7uFJBIIpRuUsOhI6H6GvNPDMMUH7SvimOCNIkGlw4VFAA4j7CvV68q8PEf8ADTXikZGf7Lh/lFRH+IvR/kEvgfy/9KR6rRRRQAUUUUAFFFFABRRRQAUUUUAFFFFABRRRQBW1DT7TVbCWy1GBZ7aUYkibo4znB9vbvXl2p2dtY/tLeGYbK3it4hpEuEiQIo/1g6CvWq8q10j/AIad8NDIz/ZMv/tWiPxr5/kwl8Evl+aPVaKKKACiiigAooooAKKKjuLiG0tpbi6ljgghQySSyMFVFAyWJPAAHOaAJKK5/wD4T/wd/wBDZof/AIMof/iqP+E/8Hf9DZof/gyh/wDiqAOgorn/APhP/B3/AENmh/8Agyh/+Ko/4T/wd/0Nmh/+DKH/AOKoA6Ciuf8A+E/8Hf8AQ2aH/wCDKH/4qj/hP/B3/Q2aH/4Mof8A4qgDXv7GLUrN7W4e4SNyCTb3MkD8HPDxsrD8DXLQ/Cfwfb6o2pW9jeRX7feuk1W7WU/VxLn9a0v+E/8AB3/Q2aH/AODKH/4qj/hP/B3/AENmh/8Agyh/+Ko8wNy2gS1tY4IjIyRqFUyyNIxA9WYlmPuSTUlc/wD8J/4O/wChs0P/AMGUP/xVH/Cf+Dv+hs0P/wAGUP8A8VQB0FFc/wD8J/4O/wChs0P/AMGUP/xVH/Cf+Dv+hs0P/wAGUP8A8VQB0FFc/wD8J/4O/wChs0P/AMGUP/xVH/Cf+Dv+hs0P/wAGUP8A8VQB0Fc5478UXfg7wpPrVnpDasLdgZoVn8opH3fO1s447dOe1T2/jfwpd3MVva+J9GnnmcRxxR6hEzOxOAoAbJJPGK2ZoY7iB4Z0WSKRSrowyGB4IIpO9tBq19TzHQvif4y8TaRFqmh/DhbuzlJCSLr8C8g4IIKgg+xFV/Enxb8WeEbFL3xD8N3tLZ3EYlGsxyqGPQHYhx+NYWjTv8FfirJoN5Iw8La8/mWkjni3cnAyfY4U+2017D4l8PWPivw7daNqm/7LdKAzREBlwQQVJBGQQO1PdKUf67oS0lyyNG2m+0WsU23b5iK+M5xkZqSmQRLb28cKElY1CgnrgDFPpu19BK9tQoorP1TX9H0Pyv7b1ax07zs+V9ruUi8zGM43EZxkZx6ikMt3Nul3ayW8pkVJFKsYpWjYA+jKQyn3BBrkpvhP4PuNUXUp7G8lv1+7dPqt2ZR9HMuf1rS/4T/wd/0Nmh/+DKH/AOKo/wCE/wDB3/Q2aH/4Mof/AIqjrcPI2LCxi02zS1t3uHjTOGuLiSd+Tnl5GZj+JqxXP/8ACf8Ag7/obND/APBlD/8AFVoaXr+j655v9iatY6j5OPN+yXKS+XnOM7ScZwcZ9DQBoUUUUAFFFFABVPWNMh1rQ77SrppEgvraS2kaMgMFdSpIJBGcH0NXKKAPHv8Ahmjwd/0Etc/7/wAP/wAao/4Zo8Hf9BLXP+/8P/xqvYaKAPHv+GaPB3/QS1z/AL/w/wDxqj/hmjwd/wBBLXP+/wDD/wDGq9Z1C/ttL064vr6VYba2jaWWRuiqBkmuU8KTa34r8nxJqd1Np2nSnfYaVDhd0f8ADJM3Viw52jAAPc0LVhsjkf8Ahmjwd/0Etc/7/wAP/wAao/4Zo8Hf9BLXP+/8P/xqvYaKAPHv+GaPB3/QS1z/AL/w/wDxqj/hmjwd/wBBLXP+/wDD/wDGq9hooA8e/wCGaPB3/QS1z/v/AA//ABqj/hmjwd/0Etc/7/w//Gq9hooA8e/4Zo8Hf9BLXP8Av/D/APGqP+GaPB3/AEEtc/7/AMP/AMar2GuV8WeOB4etb7+ztIvtYu7KEyzRwRlI4l27svK3yjjnA3N7Um0hpN7HEf8ADNHg7/oJa5/3/h/+NUf8M0eDv+glrn/f+H/41Xf+AvEVx4s8Eafrd5DFBLeK7GOLO1QHYAcn0A5/lVLxUuu+HvtHiPQrua+ghHm3mkTkMkkaj5jCcbkcAZxkqfTPNOS5XZij7yujmdH/AGe/Cmi65Y6ra6hrLz2NzHcxrJNEVLIwYAgRg4yPUV6rVLR9WtNd0a11TTZPNtbuISxt7H19D2rO8aeLrDwT4XudY1FgRGNsMOcNNIfuoPr+gyaJe7uEfe2ON+MNraeLV03wVZwLca1eTLPHIP8AlxhU4eZvYjIA7/hXo2l2A0vR7OwSWSZbWBIRJIcs+1QMk+pxXjXgT4l+BdIhutZ8ReJVn8RaswlvZBZXBWEfwwp+7+6o49z+FXPHnx08Lv4Lv7fwnrE1xqtxH5UBigmhMW7gvuZVxgZxg5zij4Y2W7/MPikj2Oiqekbxolj5ztJJ9nj3O7bix2jJJ7n3q5Tas7Ci7pMK4/x78M9H+Iv2D+27m+g+weZ5X2SRF3b9uc7lb+4MYx3rsKKQzx7/AIZo8Hf9BLXP+/8AD/8AGqP+GaPB3/QS1z/v/D/8aq14RudUvfj74nthrF/caNpNuqR20tyzIssgQnjODgiTGeRxXq9AHj3/AAzR4O/6CWuf9/4f/jVdj4C+Gej/AA6+3/2Jc30/2/y/N+1yI23Zuxjaq/3znOe1dhRQAUUUUAFFFFABRRRQB5j4m1fUPF3xRh8CaRfz2Gn2Vv8Aa9YuLV9krg42xKw5XO5c45+Y+nPO+OvDqaP8RfBuheFby+soNUn/ANPtlvpmSSOJ423EMx5wH574+tTWGtx+CPj14pbXbK+26xFG9i9tavN5wUDIUKCT1x7Ec4pPDB1TxP8AtHXep63b/ZxpOmhobUtuNp5gARG7byrsxxkAkjPFAHR/HO5ceArfTY2ZP7V1G3tGI/ultx/9Br0WCFLe3jhiULHGgRQOwAwK85+OltIfAMGpRKzHStRgu2CjPyhtpP8A49XosEyXFvHNEwZJEDqR3BGRRH4X6/ov+CEt16fq7/oeZa5qmoeOPim/gvTb64sNG0qFZ9WntXKSTscFYQ45UcjOOvzelYXizQI9L+L/AIP8P+Gr6+s7W+kFze2SX0rRusJ3AlWY9QjD3xnrSeHNZXwH8Y/GsPiG11CaXV5VubA2tm8pmQF22qFBzw6rnpleSKn8DjU/EX7Qmu6xrcQhfTLBIY7bIb7N5mCiZHVgu/d/tFgMjmgD2iub8UfEHwx4MuIIPEup/YpLhC8S/Z5ZNwBwT8inH410lFGoHn//AAvT4c/9DF/5I3H/AMbq5pHxd8D69q9vpmk63595ctsii+yTruOM4yyADp3NdpRQAVieNP8AkQ9e/wCwdcf+i2rbrjviN4o0LSPCGs2WpatZ295Np8qxWrzL5r7kYLhM7iCeM4rOp8DNKfxp+ZX+DH/JH9B/65P/AOjGruGUOpVhlWGCD3rzH4JeKdCm+HWi6OmrWY1ONXRrNplWUnezcITk8c8V6c7qiM7kBVGST2Fb1bczb2MKV+VI81+Ck7Q6Lr2ic+Xo+s3FvCD/AAx7sgfnurvdU0TStbiSLWtMs9QjjbciXdukoU+oDA4NcD8EojPomva3yY9X1m4uIWIPzR5wDz75r0ypeyv2X5Ivq7d3+Zz/APwgHg7/AKFPQ/8AwWw//E0f8ID4O/6FPQ//AAWw/wDxNdBRSARVCqFUAKBgADpS0UUAFNkdYo2kkO1FBZiewFOrB8dNeL8P9eOmRvJd/wBnzCJYxliSh6DufagDiPgQjahpXiLxRMhWTXNWklUt94xryo/Au4r0aTXNNi1+LRJLuMalNCZ0tudxjBI3ewyCPwrgPgtrEB8GaRoem6demO1tWkvLyWIxxxzM5PlgtguSSxyuQAB61e8I6peaz8UfFMeo2mlyjRhFawahb2ZjmZXy5jLlmJC45AOM84GcUAdpq2rWGhaXNqOr3UdpZwAGSaQ/KuSAPzJA/GrMMyXFvHNC26ORQ6NjGQRkVwfxQ1a9s5fD2l29rpl/b6zqUdnPZ39mZ9ykg+YPmxhcZ5U9jkYrvlUKoVQAAMAAdKAFooooAKKKKACiiigArzD4XabrVp4x8Xal4h0i8tJtXuxNBNKFKeSpbanBJBAYdugr0+igCvqFhbarptxYX8QltrmNopYz/ErDBFcn4Tg1vwl5PhrU7WbUNMiOzTtUgAO2P+GOZc5UqONwBBAHQ12lFC0YboCcAn+VeYfCLTdZsNU8T3niTRruwvdWvmuxLMFKtHk7UyGPI3Nx0x0r0+igAooooAKKKKACiiigArkfFZ1zX/P8OaFazWUM6+XeavMAqRxsPmWEZy7kHGcBRzzkYrrqKVk9xp22KWj6TaaFo1rpemx+Va2kQijX2Hr6nvVqaaO3iaSZ1RF6szAD8zT64n4w3ltZfCXXZLuJJQ0HlRq6hsO7BFI9wWzn2qm23dkpWVkbnhO71y+0BLjxPFYw3zyOfLsXLxqmcL82Tk46n9KvalqtjpFsJ9RuFgRmCIDktIx6KqjlmPoATVTwppP9heD9J0o/etLOKJ+OrBRuP55rmPEsmq/8Lb0FNPtLS7EWm3MsMd5cNAgk3orMGWN/mCnHTox5pdUv62uPo2dLZ+KtPvryO2gt9WWSQ4Uz6NdwoPq7xBR+JFZWj+N59W+IGq+FzozQNpQVp7lrlWUq4BTCgZJIIPtz+OrZ3Xid7yNdQ0jSYLYn95JBqssrqPZTbqD/AN9CvO9Y8RweD/jV4gu5o5JprnQoHtrdeftEvmiNIwOuSzAf99GgDsLXxrdXnxEvfC0OhyEWKLLPffaVMaIwyuQBkMeynngnpzXW1zngjw7N4f0Rn1OQT6xqEpu9SnBzvmbqo/2VGFUegro6ACvNvhxYeItH1rXbfUtDkiW+1i5vZ9QnnXa0bcRiNRkk5HfAA79q9JqO5h+0WssIlkh8xCvmRHDJkYyD2NAHnWuD+3P2gfDlgu5otC06fUJePlDSfu1B9+FNek1iaB4T0zw7dXt3aCee+v2DXV5dSmSWXAwoLHsB0AwK26ACiiigAooooAKKKKACiiigAooooAKKKKACiiigAooooAKKKKACiiigArF8W+FrPxj4dm0fUJp4IpHRxLbsFdGVgwIJBHUVtUUAZ2iaLFodi0EdzdXckjmSa5u5d8krkAZJ4A4AGAABjpTdZ0G01pbdp2lgubVzJbXVu+2WBiMEqeQcg4IIIPcGtOigDGs9D1C1vI5p/FOrXkaHLQTxWgR/YlIFb8iKp3vgTSdQ+INn4vu/MkvrO1FvDESPLUhmIfGM7hvI646dxXS0UAFFFFABRRRQAUUUUAFFFFABRRRQB//Z)"
      ]
    },
    {
      "cell_type": "markdown",
      "metadata": {
        "id": "xfp_JwoX6qoZ"
      },
      "source": [
        "The local efficiency of a node can be computed by considering only the neighborhood of the node in the calculation, without the node itself"
      ]
    },
    {
      "cell_type": "code",
      "metadata": {
        "colab": {
          "base_uri": "https://localhost:8080/"
        },
        "id": "GqjWanR1orDB",
        "outputId": "21e18122-d890-41c2-937f-256e87007734"
      },
      "source": [
        "G = nx.Graph()\n",
        "nodes = {1:'Dublin',2:'Paris',3:'Milan',4:'Rome',5:'Naples',6:'Moscow',7:'Tokyo'}\n",
        "G.add_nodes_from(nodes.keys())\n",
        "G.add_edges_from([(1,2),(1,3),(2,3),(3,4),(4,5),(5,6),(6,7),(7,5)])\n",
        "\n",
        "print(f\"global efficiency(by nx) = {nx.global_efficiency(G)}\")\n",
        "print(f\"local efficiency(by nx) = {nx.local_efficiency(G)}\")"
      ],
      "execution_count": 12,
      "outputs": [
        {
          "output_type": "stream",
          "name": "stdout",
          "text": [
            "global efficiency(by nx) = 0.611111111111111\n",
            "local efficiency(by nx) = 0.6666666666666667\n"
          ]
        }
      ]
    },
    {
      "cell_type": "code",
      "metadata": {
        "colab": {
          "base_uri": "https://localhost:8080/"
        },
        "id": "e1GIQ97h1MEC",
        "outputId": "edf47d87-d6be-4032-8ba6-f7a21d72782f"
      },
      "source": [
        "### ************************************************************\n",
        "## manually calculate the global efficiency and local efficiency\n",
        "vEffGlobl = np.zeros(len(nodes)+1, dtype=float)\n",
        "vEffLocal = np.zeros(len(nodes)+1, dtype=float)\n",
        "for srcNode in range(1, len(nodes)+1):\n",
        "  for dstNode in range(1, len(nodes)+1):\n",
        "    if (srcNode != dstNode):\n",
        "      effPath = 1.0 / nx.shortest_path_length(G, srcNode, dstNode)\n",
        "      #pathlen = nx.shortest_path_length(G, srcNode, dstNode)\n",
        "      #print(f\"shortest path {srcNode} to {dstNode} = {nx.shortest_path_length(G, srcNode, dstNode)}\")\n",
        "      vEffGlobl[srcNode] = vEffGlobl[srcNode] + effPath\n",
        "  print(f\"Global Efficiency({list(nodes.values())[srcNode-1]}) = {vEffGlobl[srcNode]}\")\n",
        "\n",
        "TotEffGlobl = sum(vEffGlobl)\n",
        "print(\"\")\n",
        "print(f\"global efficiency(by maunal)= {TotEffGlobl/(len(nodes)*(len(nodes)-1))}\")  "
      ],
      "execution_count": 32,
      "outputs": [
        {
          "output_type": "stream",
          "name": "stdout",
          "text": [
            "Global Efficiency(Dublin) = 3.3333333333333335\n",
            "Global Efficiency(Paris) = 3.3333333333333335\n",
            "Global Efficiency(Milan) = 4.166666666666667\n",
            "Global Efficiency(Rome) = 4.0\n",
            "Global Efficiency(Naples) = 4.166666666666666\n",
            "Global Efficiency(Moscow) = 3.333333333333333\n",
            "Global Efficiency(Tokyo) = 3.333333333333333\n",
            "\n",
            "global efficiency(by maunal)= 0.611111111111111\n"
          ]
        }
      ]
    },
    {
      "cell_type": "markdown",
      "metadata": {
        "id": "vfGWrq2b6azL"
      },
      "source": [
        "#### higher efficiency graph (fully connected)"
      ]
    },
    {
      "cell_type": "code",
      "metadata": {
        "colab": {
          "base_uri": "https://localhost:8080/",
          "height": 248
        },
        "id": "BKY3H3CsuwH5",
        "outputId": "35cea7a8-313f-4aae-a62c-6ac8ae3fe7ef"
      },
      "source": [
        "# higher efficiency\n",
        "G = nx.complete_graph(n=7)\n",
        "nodes = {0:'Dublin',1:'Paris',2:'Milan',3:'Rome',4:'Naples',5:'Moscow',6:'Tokyo'}\n",
        "\n",
        "ge = round(nx.global_efficiency(G),2)\n",
        "\n",
        "# place the text box in axes coords\n",
        "ax = plt.gca()\n",
        "ax.text(-.4, -1.3, \"fully connected - Global Efficiency:{}\".format(ge), fontsize=14, ha='left', va='bottom');\n",
        "\n",
        "draw_graph(G,node_names=nodes,filename='efficiency.png')"
      ],
      "execution_count": 34,
      "outputs": [
        {
          "output_type": "display_data",
          "data": {
            "image/png": "[encoded data removed]",
            "text/plain": [
              "<Figure size 432x288 with 1 Axes>"
            ]
          },
          "metadata": {}
        }
      ]
    },
    {
      "cell_type": "markdown",
      "metadata": {
        "id": "_wSu1pnK6gkw"
      },
      "source": [
        "#### lower efficiency (sparsely connected)"
      ]
    },
    {
      "cell_type": "code",
      "metadata": {
        "colab": {
          "base_uri": "https://localhost:8080/",
          "height": 248
        },
        "id": "rQNK_3WBvi-G",
        "outputId": "2b539ab0-3a98-47c5-b50f-1462b7a93b37"
      },
      "source": [
        "# lower efficiency\n",
        "G = nx.cycle_graph(n=7)\n",
        "nodes = {0:'Dublin',1:'Paris',2:'Milan',3:'Rome',4:'Naples',5:'Moscow',6:'Tokyo'}\n",
        "\n",
        "le = round(nx.global_efficiency(G),2)\n",
        "\n",
        "# place the text box in axes coords\n",
        "ax = plt.gca()\n",
        "ax.text(-.4, -1.3, \"sparsely connected - Global Efficiency:{}\".format(le), fontsize=14, ha='left', va='bottom');\n",
        "\n",
        "draw_graph(G, node_names=nodes,filename='less_efficiency.png')"
      ],
      "execution_count": 33,
      "outputs": [
        {
          "output_type": "display_data",
          "data": {
            "image/png": "[encoded data removed]",
            "text/plain": [
              "<Figure size 432x288 with 1 Axes>"
            ]
          },
          "metadata": {}
        }
      ]
    },
    {
      "cell_type": "markdown",
      "metadata": {
        "id": "nQYXTcjlkPi5"
      },
      "source": [
        "## Segregation metrics\n",
        "\n",
        "1.   Clustering coefficient\n",
        "2.   Centrality\n"
      ]
    },
    {
      "cell_type": "markdown",
      "metadata": {
        "id": "K2xlwGTQypcZ"
      },
      "source": [
        "### Clustering coefficient\n",
        "The clustering coefficient is a measure of how much nodes cluster together. It is defined as the fraction of triangles (complete subgraph of three nodes and three edges) around a node and is equivalent to the fraction of the node's neighbors that are neighbors of each other."
      ]
    },
    {
      "cell_type": "code",
      "metadata": {
        "id": "1BuMAkinyt8-",
        "colab": {
          "base_uri": "https://localhost:8080/",
          "height": 436
        },
        "outputId": "724f9162-3917-4dcb-afa2-8e3702bcd3d8"
      },
      "source": [
        "G = nx.Graph()\n",
        "nodes = {1:'Dublin',2:'Paris',3:'Milan',4:'Rome',5:'Naples',6:'Moscow',7:'Tokyo'}\n",
        "G.add_nodes_from(nodes.keys())\n",
        "G.add_edges_from([(1,2),(1,3),(2,3),(3,4),(4,5),(5,6),(6,7),(7,5)])\n",
        "\n",
        "draw_enhanced_path(G, path, node_names=nodes,filename='clustering.png')"
      ],
      "execution_count": 62,
      "outputs": [
        {
          "output_type": "display_data",
          "data": {
            "image/png": "[encoded data removed]",
            "text/plain": [
              "<Figure size 400x400 with 1 Axes>"
            ]
          },
          "metadata": {}
        }
      ]
    },
    {
      "cell_type": "markdown",
      "metadata": {
        "id": "4Stj9qk8oL1m"
      },
      "source": [
        "#### global clustering coefficient"
      ]
    },
    {
      "cell_type": "code",
      "metadata": {
        "colab": {
          "base_uri": "https://localhost:8080/"
        },
        "id": "IKa1VRNnVmkw",
        "outputId": "af6abcae-9a80-4145-c77c-732d4538d8e3"
      },
      "source": [
        "## global clustering coefficient\n",
        "nx.average_clustering(G)"
      ],
      "execution_count": 17,
      "outputs": [
        {
          "output_type": "execute_result",
          "data": {
            "text/plain": [
              "0.6666666666666667"
            ]
          },
          "metadata": {},
          "execution_count": 17
        }
      ]
    },
    {
      "cell_type": "markdown",
      "metadata": {
        "id": "jCbR7SIpoFsb"
      },
      "source": [
        "#### local clustering coefficient"
      ]
    },
    {
      "cell_type": "code",
      "metadata": {
        "colab": {
          "base_uri": "https://localhost:8080/"
        },
        "id": "JZ1LQZ6Frq0a",
        "outputId": "ff894b6a-b834-40f4-c916-155955732a0f"
      },
      "source": [
        "## local clustering coefficient\n",
        "cluster_local=nx.clustering(G)\n",
        "print(f\"cluster_local={cluster_local}\")\n",
        "nodes.items\n",
        "\n",
        "#zip(list(nodes.values()), cluster_local)\n",
        "#z = list(zip(list(nodes.values()), cluster_local.values())\n",
        "\n",
        "#nodes.values()\n",
        "#print(list(nodes.values())\n",
        "\n",
        "cluster_local"
      ],
      "execution_count": 65,
      "outputs": [
        {
          "output_type": "stream",
          "name": "stdout",
          "text": [
            "cluster_local={1: 1.0, 2: 1.0, 3: 0.3333333333333333, 4: 0, 5: 0.3333333333333333, 6: 1.0, 7: 1.0}\n"
          ]
        },
        {
          "output_type": "execute_result",
          "data": {
            "text/plain": [
              "{1: 1.0,\n",
              " 2: 1.0,\n",
              " 3: 0.3333333333333333,\n",
              " 4: 0,\n",
              " 5: 0.3333333333333333,\n",
              " 6: 1.0,\n",
              " 7: 1.0}"
            ]
          },
          "metadata": {},
          "execution_count": 65
        }
      ]
    },
    {
      "cell_type": "code",
      "metadata": {
        "colab": {
          "base_uri": "https://localhost:8080/",
          "height": 319
        },
        "id": "lWdp_yD-y0sx",
        "outputId": "8882e473-7bea-4f52-bdd0-ba8eafd8203c"
      },
      "source": [
        "cc = nx.clustering(G)\n",
        "node_size=[(v + 0.1) * 500 for v in cc.values()]\n",
        "draw_graph(G, node_names=nodes, node_size=node_size,filename='clustering.png')"
      ],
      "execution_count": 66,
      "outputs": [
        {
          "output_type": "display_data",
          "data": {
            "image/png": "[encoded data removed]",
            "text/plain": [
              "<Figure size 432x288 with 1 Axes>"
            ]
          },
          "metadata": {}
        }
      ]
    },
    {
      "cell_type": "markdown",
      "metadata": {
        "id": "Ga57kYOA1h47"
      },
      "source": [
        "### Centrality"
      ]
    },
    {
      "cell_type": "code",
      "metadata": {
        "id": "VV2e-FNe1kWf"
      },
      "source": [
        "G = nx.Graph()\n",
        "nodes = {1:'Dublin',2:'Paris',3:'Milan',4:'Rome',5:'Naples',6:'Moscow',7:'Tokyo'}\n",
        "G.add_nodes_from(nodes.keys())\n",
        "G.add_edges_from([(1,2),(1,3),(2,3),(3,4),(4,5),(5,6),(6,7),(7,5)])"
      ],
      "execution_count": 20,
      "outputs": []
    },
    {
      "cell_type": "code",
      "metadata": {
        "colab": {
          "base_uri": "https://localhost:8080/"
        },
        "id": "xj38Q2pq0unD",
        "outputId": "520acf11-4fd2-4029-a466-906116938e03"
      },
      "source": [
        "nx.degree_centrality(G)"
      ],
      "execution_count": 21,
      "outputs": [
        {
          "output_type": "execute_result",
          "data": {
            "text/plain": [
              "{1: 0.3333333333333333,\n",
              " 2: 0.3333333333333333,\n",
              " 3: 0.5,\n",
              " 4: 0.3333333333333333,\n",
              " 5: 0.5,\n",
              " 6: 0.3333333333333333,\n",
              " 7: 0.3333333333333333}"
            ]
          },
          "metadata": {},
          "execution_count": 21
        }
      ]
    },
    {
      "cell_type": "code",
      "metadata": {
        "colab": {
          "base_uri": "https://localhost:8080/",
          "height": 383
        },
        "id": "dCuRzRQc1zty",
        "outputId": "e2682e4e-ae06-4a40-f987-5aa344aa90ab"
      },
      "source": [
        "dc = nx.degree_centrality(G)\n",
        "node_size=[(v + 0.01) * 400 for v in dc.values()]\n",
        "draw_graph(G, node_names=nodes, node_size=node_size,filename='deg_centr.png')\n",
        "\n",
        "df = pd.DataFrame(dc,index=['Degree centrality'])\n",
        "df.columns = nodes.values()\n",
        "df"
      ],
      "execution_count": 22,
      "outputs": [
        {
          "output_type": "execute_result",
          "data": {
            "text/html": [
              "<div>\n",
              "<style scoped>\n",
              "    .dataframe tbody tr th:only-of-type {\n",
              "        vertical-align: middle;\n",
              "    }\n",
              "\n",
              "    .dataframe tbody tr th {\n",
              "        vertical-align: top;\n",
              "    }\n",
              "\n",
              "    .dataframe thead th {\n",
              "        text-align: right;\n",
              "    }\n",
              "</style>\n",
              "<table border=\"1\" class=\"dataframe\">\n",
              "  <thead>\n",
              "    <tr style=\"text-align: right;\">\n",
              "      <th></th>\n",
              "      <th>Dublin</th>\n",
              "      <th>Paris</th>\n",
              "      <th>Milan</th>\n",
              "      <th>Rome</th>\n",
              "      <th>Naples</th>\n",
              "      <th>Moscow</th>\n",
              "      <th>Tokyo</th>\n",
              "    </tr>\n",
              "  </thead>\n",
              "  <tbody>\n",
              "    <tr>\n",
              "      <th>Degree centrality</th>\n",
              "      <td>0.333333</td>\n",
              "      <td>0.333333</td>\n",
              "      <td>0.5</td>\n",
              "      <td>0.333333</td>\n",
              "      <td>0.5</td>\n",
              "      <td>0.333333</td>\n",
              "      <td>0.333333</td>\n",
              "    </tr>\n",
              "  </tbody>\n",
              "</table>\n",
              "</div>"
            ],
            "text/plain": [
              "                     Dublin     Paris  Milan  ...  Naples    Moscow     Tokyo\n",
              "Degree centrality  0.333333  0.333333    0.5  ...     0.5  0.333333  0.333333\n",
              "\n",
              "[1 rows x 7 columns]"
            ]
          },
          "metadata": {},
          "execution_count": 22
        },
        {
          "output_type": "display_data",
          "data": {
            "image/png": "[encoded data removed]",
            "text/plain": [
              "<Figure size 432x288 with 1 Axes>"
            ]
          },
          "metadata": {}
        }
      ]
    },
    {
      "cell_type": "code",
      "metadata": {
        "colab": {
          "base_uri": "https://localhost:8080/"
        },
        "id": "deUN9xP900v2",
        "outputId": "c3d40ed3-2202-4046-95b4-40f3cd5f1b0d"
      },
      "source": [
        "nx.closeness_centrality(G)"
      ],
      "execution_count": 23,
      "outputs": [
        {
          "output_type": "execute_result",
          "data": {
            "text/plain": [
              "{1: 0.4,\n",
              " 2: 0.4,\n",
              " 3: 0.5454545454545454,\n",
              " 4: 0.6,\n",
              " 5: 0.5454545454545454,\n",
              " 6: 0.4,\n",
              " 7: 0.4}"
            ]
          },
          "metadata": {},
          "execution_count": 23
        }
      ]
    },
    {
      "cell_type": "code",
      "metadata": {
        "colab": {
          "base_uri": "https://localhost:8080/",
          "height": 383
        },
        "id": "QYqWGlda13Qy",
        "outputId": "cf461ec5-43d9-4060-84ef-802d5dde0707"
      },
      "source": [
        "dc = nx.closeness_centrality(G)\n",
        "node_size=[(v + 0.1) * 400 for v in dc.values()]\n",
        "draw_graph(G, node_names=nodes, node_size=node_size,filename='clos_centr.png')\n",
        "\n",
        "df = pd.DataFrame(dc,index=['Closeness centrality'])\n",
        "df.columns = nodes.values()\n",
        "df"
      ],
      "execution_count": 24,
      "outputs": [
        {
          "output_type": "execute_result",
          "data": {
            "text/html": [
              "<div>\n",
              "<style scoped>\n",
              "    .dataframe tbody tr th:only-of-type {\n",
              "        vertical-align: middle;\n",
              "    }\n",
              "\n",
              "    .dataframe tbody tr th {\n",
              "        vertical-align: top;\n",
              "    }\n",
              "\n",
              "    .dataframe thead th {\n",
              "        text-align: right;\n",
              "    }\n",
              "</style>\n",
              "<table border=\"1\" class=\"dataframe\">\n",
              "  <thead>\n",
              "    <tr style=\"text-align: right;\">\n",
              "      <th></th>\n",
              "      <th>Dublin</th>\n",
              "      <th>Paris</th>\n",
              "      <th>Milan</th>\n",
              "      <th>Rome</th>\n",
              "      <th>Naples</th>\n",
              "      <th>Moscow</th>\n",
              "      <th>Tokyo</th>\n",
              "    </tr>\n",
              "  </thead>\n",
              "  <tbody>\n",
              "    <tr>\n",
              "      <th>Closeness centrality</th>\n",
              "      <td>0.4</td>\n",
              "      <td>0.4</td>\n",
              "      <td>0.545455</td>\n",
              "      <td>0.6</td>\n",
              "      <td>0.545455</td>\n",
              "      <td>0.4</td>\n",
              "      <td>0.4</td>\n",
              "    </tr>\n",
              "  </tbody>\n",
              "</table>\n",
              "</div>"
            ],
            "text/plain": [
              "                      Dublin  Paris     Milan  Rome    Naples  Moscow  Tokyo\n",
              "Closeness centrality     0.4    0.4  0.545455   0.6  0.545455     0.4    0.4"
            ]
          },
          "metadata": {},
          "execution_count": 24
        },
        {
          "output_type": "display_data",
          "data": {
            "image/png": "[encoded data removed]",
            "text/plain": [
              "<Figure size 432x288 with 1 Axes>"
            ]
          },
          "metadata": {}
        }
      ]
    },
    {
      "cell_type": "code",
      "metadata": {
        "colab": {
          "base_uri": "https://localhost:8080/"
        },
        "id": "ts3sMr0H06-d",
        "outputId": "4ffdcb35-5243-41b8-8284-30652697c7dd"
      },
      "source": [
        "nx.betweenness_centrality(G)"
      ],
      "execution_count": 25,
      "outputs": [
        {
          "output_type": "execute_result",
          "data": {
            "text/plain": [
              "{1: 0.0,\n",
              " 2: 0.0,\n",
              " 3: 0.5333333333333333,\n",
              " 4: 0.6,\n",
              " 5: 0.5333333333333333,\n",
              " 6: 0.0,\n",
              " 7: 0.0}"
            ]
          },
          "metadata": {},
          "execution_count": 25
        }
      ]
    },
    {
      "cell_type": "code",
      "metadata": {
        "colab": {
          "base_uri": "https://localhost:8080/",
          "height": 383
        },
        "id": "T29a81GV2PFk",
        "outputId": "22c97200-429c-4607-cdf7-d626d2d52868"
      },
      "source": [
        "dc = nx.betweenness_centrality(G)\n",
        "node_size=[(v + 0.1) * 400 for v in dc.values()]\n",
        "draw_graph(G, node_names=nodes, node_size=node_size,filename='bet_centrality.png')\n",
        "\n",
        "df = pd.DataFrame(dc,index=['Betweenness centrality'])\n",
        "df.columns = nodes.values()\n",
        "df"
      ],
      "execution_count": 26,
      "outputs": [
        {
          "output_type": "execute_result",
          "data": {
            "text/html": [
              "<div>\n",
              "<style scoped>\n",
              "    .dataframe tbody tr th:only-of-type {\n",
              "        vertical-align: middle;\n",
              "    }\n",
              "\n",
              "    .dataframe tbody tr th {\n",
              "        vertical-align: top;\n",
              "    }\n",
              "\n",
              "    .dataframe thead th {\n",
              "        text-align: right;\n",
              "    }\n",
              "</style>\n",
              "<table border=\"1\" class=\"dataframe\">\n",
              "  <thead>\n",
              "    <tr style=\"text-align: right;\">\n",
              "      <th></th>\n",
              "      <th>Dublin</th>\n",
              "      <th>Paris</th>\n",
              "      <th>Milan</th>\n",
              "      <th>Rome</th>\n",
              "      <th>Naples</th>\n",
              "      <th>Moscow</th>\n",
              "      <th>Tokyo</th>\n",
              "    </tr>\n",
              "  </thead>\n",
              "  <tbody>\n",
              "    <tr>\n",
              "      <th>Betweenness centrality</th>\n",
              "      <td>0.0</td>\n",
              "      <td>0.0</td>\n",
              "      <td>0.533333</td>\n",
              "      <td>0.6</td>\n",
              "      <td>0.533333</td>\n",
              "      <td>0.0</td>\n",
              "      <td>0.0</td>\n",
              "    </tr>\n",
              "  </tbody>\n",
              "</table>\n",
              "</div>"
            ],
            "text/plain": [
              "                        Dublin  Paris     Milan  Rome    Naples  Moscow  Tokyo\n",
              "Betweenness centrality     0.0    0.0  0.533333   0.6  0.533333     0.0    0.0"
            ]
          },
          "metadata": {},
          "execution_count": 26
        },
        {
          "output_type": "display_data",
          "data": {
            "image/png": "[encoded data removed]",
            "text/plain": [
              "<Figure size 432x288 with 1 Axes>"
            ]
          },
          "metadata": {}
        }
      ]
    },
    {
      "cell_type": "markdown",
      "metadata": {
        "id": "8TM-zF2C_OFA"
      },
      "source": [
        "### Assortativity"
      ]
    },
    {
      "cell_type": "code",
      "metadata": {
        "colab": {
          "base_uri": "https://localhost:8080/"
        },
        "id": "XXa6_QaTe-Cp",
        "outputId": "1d48920a-c85e-4cb4-b842-6a57086566c0"
      },
      "source": [
        "nx.degree_pearson_correlation_coefficient(G)"
      ],
      "execution_count": 27,
      "outputs": [
        {
          "output_type": "execute_result",
          "data": {
            "text/plain": [
              "-0.6"
            ]
          },
          "metadata": {},
          "execution_count": 27
        }
      ]
    },
    {
      "cell_type": "code",
      "metadata": {
        "colab": {
          "base_uri": "https://localhost:8080/",
          "height": 319
        },
        "id": "lzZwqxIy2Rek",
        "outputId": "a2c83a4f-dbbf-4794-88c7-66f4062803c0"
      },
      "source": [
        "G = nx.Graph()\n",
        "nodes = {1:'user1', 2:'user2', 3:'Football player', 4:'Fahsion blogger', 5:'user3', 6:'user4',\n",
        "         7:'user5', 8:'user6'}\n",
        "G.add_nodes_from(nodes.keys())\n",
        "G.add_edges_from([(1,3),(2,3),(7,3),(3,4),(5,4),(6,4),(8,4)])\n",
        "\n",
        "draw_graph(G, node_names=nodes,filename='assortativity.png')"
      ],
      "execution_count": 28,
      "outputs": [
        {
          "output_type": "display_data",
          "data": {
            "image/png": "[encoded data removed]",
            "text/plain": [
              "<Figure size 432x288 with 1 Axes>"
            ]
          },
          "metadata": {}
        }
      ]
    },
    {
      "cell_type": "code",
      "metadata": {
        "colab": {
          "base_uri": "https://localhost:8080/"
        },
        "id": "kY0Jw-j9lON_",
        "outputId": "0fffa43c-87e4-4464-bd8c-5037cf7524e2"
      },
      "source": [
        "nx.degree_pearson_correlation_coefficient(G)"
      ],
      "execution_count": 29,
      "outputs": [
        {
          "output_type": "execute_result",
          "data": {
            "text/plain": [
              "-0.7500000000000001"
            ]
          },
          "metadata": {},
          "execution_count": 29
        }
      ]
    },
    {
      "cell_type": "markdown",
      "metadata": {
        "id": "RbuH3iI1xn7X"
      },
      "source": [
        "### Modularity"
      ]
    },
    {
      "cell_type": "code",
      "metadata": {
        "colab": {
          "base_uri": "https://localhost:8080/"
        },
        "id": "Gt2EzDJM_t8b",
        "outputId": "144d5c3e-1eec-43c4-979c-6a5ef56af164"
      },
      "source": [
        "import networkx.algorithms.community as nx_comm\n",
        "\n",
        "G = nx.Graph()\n",
        "nodes = {1:'Dublin',2:'Paris',3:'Milan',4:'Rome',5:'Naples',6:'Moscow',7:'Tokyo'}\n",
        "G.add_nodes_from(nodes.keys())\n",
        "G.add_edges_from([(1,2),(1,3),(2,3),(3,4),(4,5),(5,6),(6,7),(7,5)])\n",
        "\n",
        "# partitions can be provided manually\n",
        "print(nx_comm.modularity(G, communities=[{1,2,3,4},{5,6,7}]))\n",
        "\n",
        "# or automatically computed using networkx\n",
        "print(nx_comm.modularity(G, nx_comm.label_propagation_communities(G)))"
      ],
      "execution_count": 30,
      "outputs": [
        {
          "output_type": "stream",
          "name": "stdout",
          "text": [
            "0.3671875\n",
            "0.3671875\n"
          ]
        }
      ]
    },
    {
      "cell_type": "markdown",
      "metadata": {
        "id": "DHVDxlT42_TO"
      },
      "source": [
        "### Transitivity"
      ]
    },
    {
      "cell_type": "code",
      "metadata": {
        "colab": {
          "base_uri": "https://localhost:8080/"
        },
        "id": "qjT3Zp40y32X",
        "outputId": "a8efed74-cfed-4961-b75e-d862db0442a1"
      },
      "source": [
        "nx.transitivity(G)"
      ],
      "execution_count": 31,
      "outputs": [
        {
          "output_type": "execute_result",
          "data": {
            "text/plain": [
              "0.5454545454545454"
            ]
          },
          "metadata": {},
          "execution_count": 31
        }
      ]
    },
    {
      "cell_type": "code",
      "metadata": {
        "id": "6pTNA9woMxU-"
      },
      "source": [
        ""
      ],
      "execution_count": 31,
      "outputs": []
    }
  ]
}